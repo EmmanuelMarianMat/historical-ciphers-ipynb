{
 "cells": [
  {
   "cell_type": "markdown",
   "metadata": {},
   "source": [
    "# Header"
   ]
  },
  {
   "cell_type": "code",
   "execution_count": 4,
   "metadata": {},
   "outputs": [],
   "source": [
    "import numpy as np\n",
    "import string\n",
    "from sympy import Matrix\n",
    "key = np.array([\n",
    "    [9, 7, 11, 13],\n",
    "    [4, 7, 5, 6],\n",
    "    [2,21,14, 9],\n",
    "    [3,23,21,8]])\n",
    "n=len(key[0])\n",
    "inverse = Matrix(key).inv_mod(26)\n",
    "dict1=dict(zip(list(string.ascii_uppercase),range(26)))\n",
    "dict2=dict(zip(list(string.ascii_lowercase),range(26)))\n",
    "dict3=dict(zip(range(26),string.ascii_lowercase))"
   ]
  },
  {
   "cell_type": "markdown",
   "metadata": {},
   "source": [
    "# Encryption"
   ]
  },
  {
   "cell_type": "markdown",
   "metadata": {},
   "source": [
    "We divide the string to be encrypted into blocks of size n where n is the order of the key matrix and bogus letters are added if neccessary to fill the last row. Let it be 'l'. Now we replace the letters in l with its numerical indices to obtain lmat. Now we multiply this matrix with the key matrix to obtain matrix C. Then we replace the numbers in C with corresponding letters and join the rows to get the encrypted text."
   ]
  },
  {
   "cell_type": "code",
   "execution_count": 5,
   "metadata": {},
   "outputs": [],
   "source": [
    "def hill(s):\n",
    "    s = s + ((n-(len(s)%n))%n)*'z'\n",
    "    l = [(s[i:i+n]) for i in range(0, len(s), n)]\n",
    "    l_ = []\n",
    "    for i in l:\n",
    "        ele = []\n",
    "        for j in i:\n",
    "            if j.isupper():\n",
    "                print(dict1[j])\n",
    "                ele.append(dict1[j])\n",
    "            else:\n",
    "                ele.append(dict2[j])\n",
    "        l_.append(ele)\n",
    "    lmat = np.array(l_)\n",
    "    C = lmat.dot(key)%26\n",
    "    l_ = []\n",
    "    for i in C:\n",
    "        ele = []\n",
    "        for j in i:\n",
    "            ele.append(dict3[j])\n",
    "        l_.append(ele)\n",
    "    ele= []\n",
    "    for i in l_:\n",
    "        ele.append(''.join(i))\n",
    "    return ''.join(ele)"
   ]
  },
  {
   "cell_type": "markdown",
   "metadata": {},
   "source": [
    "# Decryption"
   ]
  },
  {
   "cell_type": "markdown",
   "metadata": {},
   "source": [
    "We divide the string to be encrypted into blocks of size n where n is the order of the key matrix. Let it be 'l'. Now we replace the letters in l with its numerical indices to obtain lmat. Now we multiply this matrix with the inverse of key matrix to obtain matrix C. Then we replace the numbers in C with corresponding letters and join the rows to get the decrypted text."
   ]
  },
  {
   "cell_type": "code",
   "execution_count": 6,
   "metadata": {},
   "outputs": [],
   "source": [
    "def dehill(s):\n",
    "    l = [(s[i:i+n]) for i in range(0, len(s), n)]\n",
    "    l_ = []\n",
    "    for i in l:\n",
    "        ele = []\n",
    "        for j in i:\n",
    "            if j.isupper():\n",
    "                ele.append(dict1[j])\n",
    "            else:\n",
    "                ele.append(dict2[j])\n",
    "        l_.append(ele)\n",
    "    lmat = np.array(l_)\n",
    "    C = lmat.dot(inverse)%26\n",
    "    l_ = []\n",
    "    for i in C:\n",
    "        ele = []\n",
    "        for j in i:\n",
    "            ele.append(dict3[j])\n",
    "        l_.append(ele)\n",
    "    ele= []\n",
    "    for i in l_:\n",
    "        ele.append(''.join(i))\n",
    "    return ''.join(ele)"
   ]
  },
  {
   "cell_type": "markdown",
   "metadata": {},
   "source": [
    "# Main"
   ]
  },
  {
   "cell_type": "code",
   "execution_count": 7,
   "metadata": {},
   "outputs": [
    {
     "name": "stdout",
     "output_type": "stream",
     "text": [
      "code is ready\n",
      "ohknihghfiss\n",
      "codeisreadyz\n"
     ]
    }
   ],
   "source": [
    "t=input()\n",
    "text=''.join(t.split())\n",
    "print(hill(text))\n",
    "print(dehill(hill(text)))"
   ]
  },
  {
   "cell_type": "markdown",
   "metadata": {},
   "source": [
    "# Known Plaintext Attack"
   ]
  },
  {
   "cell_type": "markdown",
   "metadata": {},
   "source": [
    "I tried to implement the attack on Hill Cipher discussed in class here. We identify 3 plaintext/ciphertext pair blocks from the known plaintext and known ciphertext. We combine the blocks plaintext together and the corresponding ciphertext together to form matrices P and C. Now we know that P * K = C (because it was encypted using Hill Cipher with key K). i.e. We can obtain the key using the following:\n",
    "\n",
    "K = inverse(P) * C\n",
    "\n",
    "Now that we have the key we can obtain its inverse and decrypt using the inverse as in the decryption algorithm.\n",
    "\n",
    "**Please note that the key used to implement Hill cipher before and the key used to encrypt 'cipher' (which we are trying to decrypt in the following section) are different**"
   ]
  },
  {
   "cell_type": "markdown",
   "metadata": {},
   "source": [
    "# Input of the cipher to be decrypted"
   ]
  },
  {
   "cell_type": "code",
   "execution_count": 8,
   "metadata": {
    "scrolled": true
   },
   "outputs": [
    {
     "name": "stdout",
     "output_type": "stream",
     "text": [
      "dsywqswycokkeegtafjsrjrpwybmzykvehfgjizmhs\n"
     ]
    }
   ],
   "source": [
    "cipher=input()"
   ]
  },
  {
   "cell_type": "code",
   "execution_count": 9,
   "metadata": {
    "scrolled": true
   },
   "outputs": [
    {
     "name": "stdout",
     "output_type": "stream",
     "text": [
      "fhknrhafe\n",
      "dgaoqjdrl\n"
     ]
    }
   ],
   "source": [
    "knownplain=input().lower()\n",
    "knowncipher=input().lower()"
   ]
  },
  {
   "cell_type": "markdown",
   "metadata": {},
   "source": [
    "We assume that we know that the key used to obtain 'cipher' is a 3 * 3 matrix and length of plaintext >= 9 since we need 3 columns and its corresponding mapping "
   ]
  },
  {
   "cell_type": "code",
   "execution_count": 10,
   "metadata": {},
   "outputs": [
    {
     "name": "stdout",
     "output_type": "stream",
     "text": [
      "thismessageiseasytoencryptbuthardtodecrypt\n"
     ]
    }
   ],
   "source": [
    "dict_alpha_ind = dict(zip(string.ascii_lowercase,range(26)))\n",
    "dict_alpha_ind_up = dict(zip(string.ascii_lowercase,range(26)))\n",
    "dict_ind_alpha = dict(zip(range(26),string.ascii_lowercase))\n",
    "rows_plain = [(knownplain[i:i+3]) for i in range(0, 9, 3)]\n",
    "rows_cipher = [(knowncipher[i:i+3]) for i in range(0, 9, 3)]\n",
    "\n",
    "# 3 rows of matrix to which we know the mapping to \n",
    "plain_mat=[]\n",
    "for i in rows_plain:\n",
    "    row=[]\n",
    "    for j in i:\n",
    "        row.append(dict_alpha_ind[j])\n",
    "    plain_mat.append(row)\n",
    "\n",
    "cipher_mat=[]\n",
    "for i in rows_cipher:\n",
    "    row=[]\n",
    "    for j in i:\n",
    "        row.append(dict_alpha_ind[j])\n",
    "    cipher_mat.append(row)\n",
    "\n",
    "plain_inv=np.array(Matrix(plain_mat).inv_mod(26))\n",
    "keyfound=plain_inv.dot(cipher_mat)%26\n",
    "keyfound_inverse=np.array(Matrix(keyfound).inv_mod(26))\n",
    "l = [(cipher[i:i+3]) for i in range(0, len(cipher), 3)]\n",
    "l_ = []\n",
    "for i in l:\n",
    "    ele = []\n",
    "    for j in i:\n",
    "        if j.isupper():\n",
    "            ele.append(dict_alpha_ind_up[j])\n",
    "        else:\n",
    "            ele.append(dict_alpha_ind[j])\n",
    "    l_.append(ele)\n",
    "lmat = np.array(l_)\n",
    "C = lmat.dot(keyfound_inverse)%26\n",
    "l_ = []\n",
    "for i in C:\n",
    "    ele = []\n",
    "    for j in i:\n",
    "        ele.append(dict_ind_alpha[j])\n",
    "    l_.append(ele)\n",
    "ele= []\n",
    "for i in l_:\n",
    "    ele.append(''.join(i))\n",
    "decipher=''.join(ele)\n",
    "print(decipher)"
   ]
  }
 ],
 "metadata": {
  "kernelspec": {
   "display_name": "Python 3",
   "language": "python",
   "name": "python3"
  },
  "language_info": {
   "codemirror_mode": {
    "name": "ipython",
    "version": 3
   },
   "file_extension": ".py",
   "mimetype": "text/x-python",
   "name": "python",
   "nbconvert_exporter": "python",
   "pygments_lexer": "ipython3",
   "version": "3.9.0"
  }
 },
 "nbformat": 4,
 "nbformat_minor": 4
}

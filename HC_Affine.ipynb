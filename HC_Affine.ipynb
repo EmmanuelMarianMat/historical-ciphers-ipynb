{
 "cells": [
  {
   "cell_type": "markdown",
   "metadata": {},
   "source": [
    "# Header"
   ]
  },
  {
   "cell_type": "code",
   "execution_count": 9,
   "metadata": {},
   "outputs": [],
   "source": [
    "a = 7\n",
    "b = 2\n",
    "import string"
   ]
  },
  {
   "cell_type": "markdown",
   "metadata": {},
   "source": [
    "Find the inverse of x by looping through 0 to 25 and seeing which number gives one when done modular multiplication with x"
   ]
  },
  {
   "cell_type": "markdown",
   "metadata": {},
   "source": [
    "# Inverse Function"
   ]
  },
  {
   "cell_type": "code",
   "execution_count": 10,
   "metadata": {},
   "outputs": [],
   "source": [
    "#calculating inverse of x\n",
    "def inverse(x):\n",
    "    for i in range(26):\n",
    "        if (x*i)%26==1:\n",
    "            return i\n",
    "        \n",
    "a_=inverse(a)"
   ]
  },
  {
   "cell_type": "markdown",
   "metadata": {},
   "source": [
    "# Encrypt"
   ]
  },
  {
   "cell_type": "markdown",
   "metadata": {},
   "source": [
    "Encryption by taking each letter an performing a*(letter_index) + b where * is the modular multiplication and + is the modular addition with respect to 26"
   ]
  },
  {
   "cell_type": "code",
   "execution_count": 11,
   "metadata": {},
   "outputs": [],
   "source": [
    "def affine(s):\n",
    "    x=''\n",
    "    for i in s:\n",
    "        #affine encryption using (a*x+b)%26\n",
    "        if i.isupper():\n",
    "            x = x + chr(((a * ( ord(i) - 65 ) + b ) % 26 ) + 65)\n",
    "        elif i.islower():\n",
    "            x = x + chr(((a * ( ord(i) - 97 ) + b ) % 26 ) + 97)\n",
    "        else:\n",
    "            x = x + i\n",
    "    return x"
   ]
  },
  {
   "cell_type": "markdown",
   "metadata": {},
   "source": [
    "# Decrpyt"
   ]
  },
  {
   "cell_type": "markdown",
   "metadata": {},
   "source": [
    "Encryption by taking each letter an performing inverse(a) * (letter_index - b) where * is the modular multiplication and - is the modular subtraction with respect to 26"
   ]
  },
  {
   "cell_type": "code",
   "execution_count": 12,
   "metadata": {},
   "outputs": [],
   "source": [
    "def deaffine(s):\n",
    "    s_list=list(s)\n",
    "    x=''\n",
    "    for i in s_list:\n",
    "        if i.isupper():\n",
    "            #affine encryption using (inverse(a)*(x-b))%26\n",
    "            x = x + chr(((a_ * (ord(i) - 65 - b ) ) % 26 ) + 65)\n",
    "        elif i.islower():\n",
    "            x = x + chr(((a_ * ( ord(i) - 97 - b ) ) % 26 ) + 97)\n",
    "        else:\n",
    "            x = x + i\n",
    "    return x"
   ]
  },
  {
   "cell_type": "markdown",
   "metadata": {},
   "source": [
    "# Main"
   ]
  },
  {
   "cell_type": "code",
   "execution_count": 13,
   "metadata": {
    "scrolled": false
   },
   "outputs": [
    {
     "name": "stdout",
     "output_type": "stream",
     "text": [
      "hello\n",
      "zebbw\n",
      "hello\n"
     ]
    }
   ],
   "source": [
    "t=input()\n",
    "text=''.join(t.split())\n",
    "text_=affine(text)\n",
    "print(text_)\n",
    "print(deaffine(text_))"
   ]
  },
  {
   "cell_type": "markdown",
   "metadata": {},
   "source": [
    "# Input of Cipher to be Decrypted"
   ]
  },
  {
   "cell_type": "code",
   "execution_count": 14,
   "metadata": {
    "scrolled": true
   },
   "outputs": [
    {
     "name": "stdout",
     "output_type": "stream",
     "text": [
      "yzegybgyfepgps\n"
     ]
    }
   ],
   "source": [
    "cipher=input()"
   ]
  },
  {
   "cell_type": "markdown",
   "metadata": {},
   "source": [
    "# Known Plaintext"
   ]
  },
  {
   "cell_type": "code",
   "execution_count": 15,
   "metadata": {
    "scrolled": true
   },
   "outputs": [
    {
     "name": "stdout",
     "output_type": "stream",
     "text": [
      "hello\n",
      "zebbv\n"
     ]
    }
   ],
   "source": [
    "knownplain=input().lower()\n",
    "knowncipher=input().lower()"
   ]
  },
  {
   "cell_type": "markdown",
   "metadata": {},
   "source": [
    "Let pla1 be the first letter's index in known plaintext, pla2 be the second letter's index in known plaintext, cip1 be the first letter's index in known ciphertext, cip2 be the second letter's index in known ciphertext:\n",
    "Since we know it is affine cipher we have two equations.\n",
    "cip1 = a * pla1 + b,\n",
    "cip2 = a * pla2 + b\n",
    "Solve these two equations to get a and b. Use these to decrypt the cipher"
   ]
  },
  {
   "cell_type": "code",
   "execution_count": 16,
   "metadata": {},
   "outputs": [
    {
     "name": "stdout",
     "output_type": "stream",
     "text": [
      "sheislistening\n"
     ]
    }
   ],
   "source": [
    "#assuming the given plain and cipher are longer than 1 charecter; we need 2 equations to solve the system of 2 variables\n",
    "#solving the equaltions using first two letters in known plaintext and corresponding letters in known ciphertext\n",
    "\n",
    "diff_cipher=(ord(knowncipher[0])-ord(knowncipher[1]))%26\n",
    "diff_plain=(ord(knownplain[0])-ord(knownplain[1]))%26\n",
    "\n",
    "inv_list=[]\n",
    "for i in range(26):\n",
    "    if inverse(i):\n",
    "        inv_list.append(i)\n",
    "        \n",
    "for i in inv_list:\n",
    "    if(diff_plain*i%26==diff_cipher):\n",
    "        a_found=i\n",
    "        break\n",
    "\n",
    "letter_index_lhs=ord(knowncipher.lower()[0])-97\n",
    "letter_index_rhs=ord(knownplain.lower()[0])-97\n",
    "\n",
    "for i in range(26):\n",
    "    if letter_index_lhs==(a_found*letter_index_rhs+i)%26:\n",
    "        b_found=i\n",
    "        break\n",
    "\n",
    "#decryption using newly found keys\n",
    "s_list=list(cipher)\n",
    "x=''\n",
    "for i in s_list:\n",
    "    if i.isupper():\n",
    "        x = x + chr(((inverse(a_found) * (ord(i) - 65 - b_found ) ) % 26 ) + 65)\n",
    "    elif i.islower():\n",
    "        x = x + chr(((inverse(a_found) * ( ord(i) - 97 - b_found ) ) % 26 ) + 97)\n",
    "    else:\n",
    "        x = x + i\n",
    "decipher=x\n",
    "print(decipher)"
   ]
  },
  {
   "cell_type": "markdown",
   "metadata": {},
   "source": [
    "# Chosen Plaintext"
   ]
  },
  {
   "cell_type": "markdown",
   "metadata": {},
   "source": [
    "Find the corresponding mappings of each alphabet by encrypting the alphabet using encryption algorithm and then decipher using the translate function. We can do this because it is a monoalphabetic cipher and each letter is mapped to one and only one letter."
   ]
  },
  {
   "cell_type": "code",
   "execution_count": 17,
   "metadata": {},
   "outputs": [
    {
     "name": "stdout",
     "output_type": "stream",
     "text": [
      "sheislistening\n"
     ]
    }
   ],
   "source": [
    "chosenplain=string.ascii_lowercase+string.ascii_uppercase\n",
    "cipherofchosen=affine(chosenplain)\n",
    "decipher=cipher.translate(str.maketrans(cipherofchosen,string.ascii_lowercase+string.ascii_uppercase))\n",
    "print(decipher)"
   ]
  },
  {
   "cell_type": "markdown",
   "metadata": {},
   "source": [
    "# Chosen Ciphertext"
   ]
  },
  {
   "cell_type": "markdown",
   "metadata": {},
   "source": [
    "Find the corresponding inverse mappings of each alphabet (inverse mapping of 'a' is the letter which will be encrypted to an 'a') by decrypting the alphabet using decyption algorithm and then decipher using the translate function."
   ]
  },
  {
   "cell_type": "code",
   "execution_count": 18,
   "metadata": {},
   "outputs": [
    {
     "name": "stdout",
     "output_type": "stream",
     "text": [
      "sheislistening\n"
     ]
    }
   ],
   "source": [
    "chosencipher=string.ascii_lowercase+string.ascii_uppercase\n",
    "decipherofchosen=deaffine(chosenplain)\n",
    "decipher=cipher.translate(str.maketrans(string.ascii_lowercase+string.ascii_uppercase,decipherofchosen))\n",
    "print(decipher)"
   ]
  },
  {
   "cell_type": "markdown",
   "metadata": {},
   "source": [
    "# Only Ciphertext"
   ]
  },
  {
   "cell_type": "markdown",
   "metadata": {},
   "source": [
    "We will first obtain a list of possible deciphers with all possible (a,b) key value pairs and then for each entry we calculate the number of meaningful words and print. This is done so that the most probable deciphers are printed first"
   ]
  },
  {
   "cell_type": "code",
   "execution_count": 19,
   "metadata": {},
   "outputs": [
    {
     "name": "stdout",
     "output_type": "stream",
     "text": [
      "sheislistening\n",
      "hcdthsthydatal\n",
      "gpiaghagridade\n",
      "slcosxosvcdodi\n",
      "ovesojsoledsdy\n",
      "mjuomdomrunone\n",
      "fixdfodfaxeden\n",
      "ibseineilstety\n",
      "czkectechkdedu\n",
      "uvacuxcubalclo\n",
      "avwmalmarwtmte\n",
      "axicarcafibcbs\n",
      "tehdtadtshydyf\n",
      "otscodcoxsvcvk\n",
      "ejisetsenilsla\n",
      "utomurmunodmda\n",
      "azusaxsatujsjg\n",
      "notvnqvnuteveh\n",
      "lmrtlotlsrctcf\n",
      "jkprjmrjqparad\n",
      "fglnfinfmlwnwz\n",
      "efkmehmelkvmvy\n",
      "ratlrslrctolop\n",
      "snoesdesjolelw\n",
      "rmndrcdrinkdkv\n",
      "lghxlwxlchexep\n",
      "dsptdwtdepytyr\n",
      "ilagirgidahghq\n",
      "qtioqzoqlipopy\n",
      "xqhtxctxahitin\n",
      "pizlpulpszalaf\n",
      "rkbnrwnrubcnch\n",
      "mfwimrimpwxixc\n",
      "hardhmdhkrsdsx\n",
      "dkthdyhdatshsn\n",
      "wdmawrawtmlalg\n",
      "lsbplgplibapav\n",
      "yvgaypaydgzazq\n",
      "ebmgevgejmfgfw\n",
      "itwsipsihwnsnu\n",
      "mrqambamvqtati\n",
      "xcblxmlxgbelet\n",
      "kpoykzyktoryrg\n",
      "ctaicbicrafife\n",
      "mdksmlsmbkpspo\n",
      "kjeckhckdetctq\n",
      "yzegybgyfepgps\n",
      "qrwyqtyqxwhyhk\n",
      "mnsumpumtsdudg\n",
      "dejldgldkjulux\n",
      "abgiadiahgriru\n",
      "irkcijcitkfcfg\n",
      "yhasyzsyjavsvw\n",
      "pyrjpqjparmjmn\n",
      "engyefyepgbybc\n",
      "vexpvwpvgxspst\n",
      "dmfxdexdofaxab\n",
      "ktmeklekvmhehi\n",
      "pklbpabpglibit\n",
      "topfteftkpmfmx\n",
      "ideuituizebubm\n",
      "hwtxhaxhitcxcv\n",
      "croscvscdoxsxq\n",
      "ynkoyroyzktotm\n",
      "furvfyvfgravat\n",
      "mbycmfcmnyhcha\n",
      "uxmsudsupmtstc\n",
      "rujpraprmjqpqz\n",
      "cfuaclacxubabk\n",
      "twlrtcrtolsrsb\n",
      "vyntvetvqnutud\n",
      "pshnpynpkhonox\n",
      "adsyajyavszyzi\n",
      "qjamqvmqtabmbg\n",
      "exoaejaehopapu\n",
      "bulxbgxbelmxmr\n",
      "tmdptyptwdepej\n",
      "nudrnirnkdcrcx\n",
      "sziwsnwspihwhc\n",
      "eluieziebutito\n",
      "jqznjenjgzynyt\n",
      "hoxlhclhexwlwr\n",
      "ahqeaveaxqpepk\n",
      "spausjusxatutk\n",
      "byjdbsdbgjcdct\n",
      "hepjhyjhmpijiz\n",
      "qnysqhsqvyrsri\n",
      "zwhbzqbzehabar\n",
      "roztritrwzstsj\n",
      "dalfdufdilefev\n",
      "epsoeloedsjojq\n",
      "qbeaqxaqpevavc\n",
      "dorndkndcrinip\n",
      "padzpwzpoduzub\n",
      "lcjrlkrlajoron\n",
      "ulsautaujsxaxw\n",
      "fwdlfelfudilih\n",
      "pgnvpovpensvsr\n",
      "jidbjgbjcdsbsp\n",
      "lkfdlidlefudur\n",
      "mlgemjemfgvevs\n",
      "vupnvsnvopeneb\n",
      "wvqowtowpqfofc\n",
      "zytrzwrzstirif\n",
      "xydfxafxedofor\n",
      "tuzbtwbtazkbkn\n",
      "ijoqilqipozqzc\n",
      "hinphkphonypyb\n",
      "cdikcfkcjitktw\n",
      "xgzrxyrxizuruv\n",
      "oxqiopiozqlilm\n",
      "wfyqwxqwhytqtu\n",
      "udwouvoufwrors\n",
      "lunflmflwnifij\n",
      "clewcdwcnezwza\n",
      "bkdvbcvbmdyvyz\n",
      "sbumstmsdupmpq\n",
      "jsldjkdjulgdgh\n",
      "ajcuabualcxuxy\n",
      "ezaqepqevaxqxi\n",
      "jefvjuvjafcvcn\n",
      "cxyocnoctyvovg\n",
      "wrsiwhiwnspipa\n",
      "fabrfqrfwbyryj\n",
      "wlimwpmwxirmrk\n",
      "vkhlvolvwhqlqj\n",
      "rgdhrkhrsdmhmf\n",
      "bqnrburbcnwrwp\n",
      "ixuyibyijudydw\n",
      "tifjtmjtufojoh\n",
      "etquexuefqzuzs\n",
      "laxbleblmxgbgz\n",
      "orgmoxmojgnmnw\n",
      "zcrxzixzuryxyh\n",
      "nqflnwlnifmlmv\n",
      "ehwcencezwdcdm\n",
      "betzbkzbwtazaj\n",
      "ybqwyhwytqxwxg\n",
      "mpekmvkmhelklu\n",
      "gjyegpegbyfefo\n",
      "dgvbdmbdyvcbcl\n",
      "vofrvarvyfgrgl\n",
      "levhlqhlovwhwb\n",
      "unequzquxefqfk\n",
      "kdugkpgknuvgva\n",
      "atkwafwadklwlq\n",
      "yfocytcyvoncni\n",
      "kraokfokhazozu\n",
      "pwftpktpmfetez\n",
      "ipymidmifyxmxs\n",
      "ubkyupyurkjyje\n",
      "zgpdzudzwpodoj\n",
      "xenbxsbxunmbmh\n",
      "tajxtoxtqjixid\n",
      "gdoigxiglohihy\n",
      "pmxrpgrpuxqrqh\n",
      "nkvpnepnsvopof\n",
      "ifqkizkinqjkja\n",
      "litnlcnlqtmnmd\n",
      "olwqofqotwpqpg\n",
      "urcwulwuzcvwvm\n",
      "mxawmtwmlarwry\n",
      "bmplbilbapglgn\n",
      "yjmiyfiyxmdidk\n",
      "sdgcszcsrgxcxe\n",
      "lqpzlazlupszsh\n",
      "glkugvugpknunc\n",
      "bgfpbqpbkfipix\n",
      "rwvfrgfravyfyn\n",
      "nsrbncbnwrubuj\n",
      "jonxjyxjsnqxqf\n",
      "zednzonzidgngv\n",
      "uzyiujiudybibq\n",
      "putdpedpytwdwl\n",
      "fkjtfutfojmtmb\n",
      "afeoapoajehohw\n",
      "dubjdcjdsbgjgf\n",
      "evckedketchkhg\n",
      "neltnmtnclqtqp\n",
      "xovdxwdxmvadaz\n",
      "qhowqpwqfotwts\n",
      "izgoihoixglolk\n",
      "ripxrqxrgpuxut\n",
      "arygazgapydgdc\n",
      "edywebwexynwnk\n",
      "rqljrojrklajax\n",
      "tsnltqltmnclcz\n",
      "yxsqyvqyrshqhe\n",
      "wxcewzewdcnenq\n",
      "vwbdvydvcbmdmp\n",
      "styasvaszyjajm\n",
      "rsxzruzryxizil\n",
      "pqvxpsxpwvgxgj\n",
      "opuworwovufwfi\n",
      "klqsknskrqbsbe\n",
      "ghmogjognmxoxa\n",
      "bchjbejbihsjsv\n",
      "zafhzchzgfqhqt\n",
      "zibtzatzkbwtwx\n",
      "qzskqrkqbsnkno\n",
      "hqjbhibhsjebef\n",
      "fohzfgzfqhczcd\n",
      "nwphnohnypkhkl\n",
      "mvogmngmxojgjk\n",
      "tcvntuntevqnqr\n",
      "kfgwkvwkbgdwdo\n",
      "upqgufgulqngny\n",
      "zuvlzklzqvslsd\n",
      "ojkaozaofkhahs\n",
      "ytukyjkypurkrc\n",
      "dyzpdopduzwpwh\n",
      "nijznyznejgzgr\n",
      "xstjxijxotqjqb\n",
      "mhiymxymdifyfq\n",
      "bwxnbmnbsxunuf\n",
      "gbcsgrsgxczszk\n",
      "qlmcqbcqhmjcju\n",
      "vqrhvghvmrohoz\n",
      "odaeoheopajejc\n",
      "zolpzspzalupun\n",
      "kzwakdaklwfafy\n",
      "gvswgzwghsbwbu\n",
      "nczdngdnozidib\n",
      "jyvzjczjkvezex\n",
      "ujgkunkuvgpkpi\n",
      "qfcgqjgqrclgle\n",
      "xmjnxqnxyjsnsl\n",
      "pebfpifpqbkfkd\n",
      "apmqatqabmvqvo\n",
      "lodjlujlgdkjkt\n",
      "wzouwfuwrovuve\n",
      "knciktikfcjijs\n",
      "hkzfhqfhczgfgp\n",
      "svkqsbqsnkrqra\n",
      "jmbhjshjebihir\n",
      "xapvxgvxspwvwf\n",
      "ohykotkoryzkze\n",
      "cvmychycfmnyns\n",
      "jctfjofjmtufuz\n",
      "zsjvzevzcjkvkp\n",
      "gzqcglcgjqrcrw\n",
      "ngxjnsjnqxyjyd\n",
      "wpgswbswzghshm\n",
      "dwnzdizdgnozot\n",
      "yriuyduybijujo\n",
      "fypbfkbfipqbqv\n",
      "mtcqmhqmjcbqbw\n",
      "fmvjfajfcvujup\n",
      "ryhvrmvrohgvgb\n",
      "birfbwfbyrqfql\n",
      "gnwkgbkgdwvkvq\n",
      "qxguqluqngfufa\n",
      "cjsgcxgczsrgrm\n",
      "vclzvqzvslkzkf\n",
      "jgrljaljorklkb\n",
      "vsdxvmxvadwxwn\n",
      "khsmkbmkpslmlc\n",
      "tqbvtkvtybuvul\n",
      "wteywnywbexyxo\n",
      "fcnhfwhfknghgx\n",
      "xufzxozxcfyzyp\n",
      "xilhxehxwlchcj\n",
      "fqtpfmpfetkpkr\n",
      "ufieubeutizezg\n",
      "juxtjqtjixotov\n",
      "nybxnuxnmbsxsz\n",
      "cnqmcjmcbqhmho\n",
      "rcfbrybrqfwbwd\n",
      "gruqgnqgfulqls\n",
      "vgjfvcfvujafah\n",
      "kvyukrukjypupw\n",
      "zknjzgjzynejel\n",
      "ozcyovyonctyta\n",
      "hsvrhorhgvmrmt\n",
      "whkgwdgwvkbgbi\n",
      "lwzvlsvlkzqvqx\n",
      "alokahkazofkfm\n",
      "qvueqfeqzuxexm\n",
      "wbakwlkwfadkds\n",
      "hmlvhwvhqlovod\n",
      "chgqcrqclgjqjy\n",
      "sxwgshgsbwzgzo\n",
      "inmwixwirmpwpe\n",
      "dihrdsrdmhkrkz\n",
      "ydcmynmyhcfmfu\n",
      "tyxhtihtcxahap\n",
      "vazjvkjvezcjcr\n",
      "sjqysryshqvyvu\n",
      "bszhbahbqzehed\n",
      "kbiqkjqkzinqnm\n",
      "tkrztsztirwzwv\n",
      "vmtbvubvktybyx\n",
      "wnucwvcwluzczy\n",
      "ofmuonuodmrurq\n",
      "gxemgfmgvejmji\n",
      "ypweyxeynwbeba\n",
      "hyfnhgnhwfknkj\n",
      "zqxfzyfzoxcfcb\n",
      "jahpjipjyhmpml\n",
      "cbwuczucvwluli\n",
      "dcxvdavdwxmvmj\n",
      "fezxfcxfyzoxol\n",
      "gfaygdygzapypm\n",
      "hgbzhezhabqzqn\n",
      "ihcaifaibcraro\n",
      "nmhfnkfnghwfwt\n",
      "onigolgohixgxu\n",
      "pojhpmhpijyhyv\n",
      "qpkiqniqjkzizw\n",
      "srmkspkslmbkby\n",
      "xwrpxupxqrgpgd\n",
      "bavtbytbuvktkh\n"
     ]
    }
   ],
   "source": [
    "inv_list=[] #list of all numbers with inverses\n",
    "for i in range(26):\n",
    "    if inverse(i):\n",
    "        inv_list.append(i)\n",
    "possible=[] #set of decrypted messages correseponding to all possible (a,b) pairs\n",
    "for k in inv_list:\n",
    "    for j in range(26):\n",
    "        a_found=inverse(k)\n",
    "        b_found=j\n",
    "        x=''\n",
    "        for i in cipher:\n",
    "            if i.isupper():\n",
    "                x = x + chr(((a_found * ( ord(i) - 65  - b_found ) % 26 ) + 65))\n",
    "            elif i.islower():\n",
    "                x = x + chr(((a_found * ( ord(i) - 97  - b_found ) % 26 ) + 97))\n",
    "            else:\n",
    "                x = x + i\n",
    "        possible.append(x)\n",
    "\n",
    "count=dict(zip(possible,[0]*312)) \n",
    "file = open('words.txt', 'r') #file containing most fequently used 20000 English words\n",
    "for each in file: #loop that counts the number of meaningful words in each entry in possibilty\n",
    "    each=each.rstrip()\n",
    "    if len(each)<3:\n",
    "        continue\n",
    "    for i in possible:\n",
    "        if each in i or each.upper() in i:\n",
    "            count[i]=count[i]+1\n",
    "count = sorted(count.items(), key= lambda x:x[1],reverse=True) #sorts in descending order according the number of meaningful words\n",
    "for i in count:\n",
    "    decipher=i[0]\n",
    "    print(decipher)"
   ]
  }
 ],
 "metadata": {
  "kernelspec": {
   "display_name": "Python 3",
   "language": "python",
   "name": "python3"
  },
  "language_info": {
   "codemirror_mode": {
    "name": "ipython",
    "version": 3
   },
   "file_extension": ".py",
   "mimetype": "text/x-python",
   "name": "python",
   "nbconvert_exporter": "python",
   "pygments_lexer": "ipython3",
   "version": "3.9.0"
  }
 },
 "nbformat": 4,
 "nbformat_minor": 4
}

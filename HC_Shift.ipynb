{
 "cells": [
  {
   "cell_type": "markdown",
   "metadata": {},
   "source": [
    "I observed that we can get the required mapping for each letter by rotating the alphabet string (abcdefghijklmnopqrstuvwxyz) by units and taking the corresponding letter in the rotated string. That is, if we view Shift cipher as a type of substitution cipher then the rotated string would be the key. Then we used the translate function to replace the letters with corresponding ones in the key."
   ]
  },
  {
   "cell_type": "markdown",
   "metadata": {},
   "source": [
    "# Encrypt"
   ]
  },
  {
   "cell_type": "code",
   "execution_count": 1,
   "metadata": {},
   "outputs": [],
   "source": [
    "import string\n",
    "#Function to shift text by 'x, times\n",
    "x = 7;\n",
    "def shift(text):\n",
    "    tr = string.ascii_lowercase #tr=abcdefghijklmnopqrstuvwxyz\n",
    "    tr = tr[x:] + tr [:x] #rotates by x units by slicing, swapping and concatenating back\n",
    "    _tr = string.ascii_uppercase #_tr=ABCDEGHIJKLMNOPQRSTUVWXYZ\n",
    "    _tr = _tr[x:] + _tr[:x] \n",
    "    #substituting each letter with shifted new letter using translate function\n",
    "    return text.translate(str.maketrans(string.ascii_lowercase,tr)).translate(str.maketrans(string.ascii_uppercase,_tr))"
   ]
  },
  {
   "cell_type": "markdown",
   "metadata": {},
   "source": [
    "We construct the key as we did in encryption and then replace the letters in key with the alphabet (abcdefghijklmnopqrstuvwxyz) using the translate function"
   ]
  },
  {
   "cell_type": "markdown",
   "metadata": {},
   "source": [
    "# Decrypt"
   ]
  },
  {
   "cell_type": "code",
   "execution_count": 2,
   "metadata": {},
   "outputs": [],
   "source": [
    "def deshift(text):\n",
    "    tr = string.ascii_lowercase #tr=abcdefghijklmnopqrstuvwxyz\n",
    "    tr = tr[x:] + tr [:x] #rotates by x units by slicing, swapping and concatenating back\n",
    "    _tr = string.ascii_uppercase #_tr=ABCDEGHIJKLMNOPQRSTUVWXYZ\n",
    "    _tr = _tr[x:] + _tr[:x] \n",
    "    #substituting each letter with shifted new letter using translate function\n",
    "    return text.translate(str.maketrans(tr,string.ascii_lowercase,)).translate(str.maketrans(_tr,string.ascii_uppercase,))"
   ]
  },
  {
   "cell_type": "markdown",
   "metadata": {},
   "source": [
    "# Main"
   ]
  },
  {
   "cell_type": "code",
   "execution_count": 4,
   "metadata": {
    "scrolled": true
   },
   "outputs": [
    {
     "name": "stdout",
     "output_type": "stream",
     "text": [
      "hello\n",
      "olssv\n",
      "hello\n"
     ]
    }
   ],
   "source": [
    "t=input()\n",
    "text=''.join(t.split())\n",
    "text_= shift(text)\n",
    "print(text_)\n",
    "print(deshift(text_))"
   ]
  },
  {
   "cell_type": "markdown",
   "metadata": {},
   "source": [
    "# Input of Cipher to be decypted"
   ]
  },
  {
   "cell_type": "code",
   "execution_count": 5,
   "metadata": {
    "scrolled": false
   },
   "outputs": [
    {
     "name": "stdout",
     "output_type": "stream",
     "text": [
      "uvaclyfzljbyl\n"
     ]
    }
   ],
   "source": [
    "cipher=input()"
   ]
  },
  {
   "cell_type": "markdown",
   "metadata": {},
   "source": [
    "# Known Plaintext"
   ]
  },
  {
   "cell_type": "code",
   "execution_count": 6,
   "metadata": {
    "scrolled": false
   },
   "outputs": [
    {
     "name": "stdout",
     "output_type": "stream",
     "text": [
      "hello\n",
      "olssv\n"
     ]
    }
   ],
   "source": [
    "knownplain=input()\n",
    "knowncipher=input()"
   ]
  },
  {
   "cell_type": "markdown",
   "metadata": {},
   "source": [
    "Calculate the shift by subtracting the index of the first letter in plaintext from the index of the first letter in ciphertext and decrypt"
   ]
  },
  {
   "cell_type": "code",
   "execution_count": 7,
   "metadata": {},
   "outputs": [
    {
     "name": "stdout",
     "output_type": "stream",
     "text": [
      "notverysecure\n"
     ]
    }
   ],
   "source": [
    "key=ord(knowncipher[0])-ord(knownplain[0]) #finding key\n",
    "#decryption\n",
    "tr = string.ascii_lowercase \n",
    "tr = tr[key:] + tr [:key] \n",
    "_tr = string.ascii_uppercase \n",
    "_tr = _tr[key:] + _tr[:key] \n",
    "decipher=cipher.translate(str.maketrans(tr,string.ascii_lowercase,)).translate(str.maketrans(_tr,string.ascii_uppercase,))\n",
    "print(decipher)"
   ]
  },
  {
   "cell_type": "markdown",
   "metadata": {},
   "source": [
    "# Chosen Plaintext"
   ]
  },
  {
   "cell_type": "markdown",
   "metadata": {},
   "source": [
    "Find the corresponding mappings of each alphabet by encrypting the alphabet using encryption algorithm and then decipher using the translate function. We can do this because it is a monoalphabetic cipher and each letter is mapped to one and only one letter"
   ]
  },
  {
   "cell_type": "code",
   "execution_count": 8,
   "metadata": {
    "scrolled": true
   },
   "outputs": [
    {
     "name": "stdout",
     "output_type": "stream",
     "text": [
      "notverysecure\n"
     ]
    }
   ],
   "source": [
    "chosenplain=string.ascii_lowercase+string.ascii_uppercase\n",
    "cipherofchosen=shift(chosenplain) \n",
    "decipher=cipher.translate(str.maketrans(cipherofchosen,string.ascii_lowercase+string.ascii_uppercase))\n",
    "print(decipher)"
   ]
  },
  {
   "cell_type": "markdown",
   "metadata": {},
   "source": [
    "# Chosen Ciphertext"
   ]
  },
  {
   "cell_type": "markdown",
   "metadata": {},
   "source": [
    "Find the corresponding inverse mappings of each alphabet (inverse mapping of 'a' is the letter which will be encrypted to an 'a') by decrypting the alphabet using decyption algorithm and then decipher using the translate function."
   ]
  },
  {
   "cell_type": "code",
   "execution_count": 9,
   "metadata": {},
   "outputs": [
    {
     "name": "stdout",
     "output_type": "stream",
     "text": [
      "notverysecure\n"
     ]
    }
   ],
   "source": [
    "chosencipher=string.ascii_lowercase+string.ascii_uppercase\n",
    "decipherofchosen=deshift(chosenplain)\n",
    "decipher=cipher.translate(str.maketrans(string.ascii_lowercase+string.ascii_uppercase,decipherofchosen))\n",
    "print(decipher)"
   ]
  },
  {
   "cell_type": "markdown",
   "metadata": {},
   "source": [
    "# Only Ciphertext"
   ]
  },
  {
   "cell_type": "markdown",
   "metadata": {},
   "source": [
    "frq contains the whole alphabet but the letters in frequency order. We find the most frequent letter in the cipher (let it be mostfrq). Then we first assume 'e' is the inverse mapping of mostfrq ('e' is the most frquenly occuring letter in English) calculate the correseponding shift, decrypt using that shift and print, then we assume 't' is the inverse mapping of mostfrq and so on. This is done so that the most probable deciphers are printed first"
   ]
  },
  {
   "cell_type": "code",
   "execution_count": 10,
   "metadata": {},
   "outputs": [
    {
     "name": "stdout",
     "output_type": "stream",
     "text": [
      "notverysecure\n",
      "cdiktgnhtrjgt\n",
      "jkpranuoayqna\n",
      "xydfobicomebo\n",
      "rsxzivcwigyvi\n",
      "wxcenahbnldan\n",
      "bchjsfmgsqifs\n",
      "qrwyhubvhfxuh\n",
      "abgirelfrpher\n",
      "mnsudqxrdbtqd\n",
      "uvaclyfzljbyl\n",
      "lmrtcpwqcaspc\n",
      "dejluhoiuskhu\n",
      "vwbdmzgamkczm\n",
      "fglnwjqkwumjw\n",
      "opuwfsztfdvsf\n",
      "pqvxgtaugewtg\n",
      "hinpylsmywoly\n",
      "yzegpcjdpnfcp\n",
      "klqsbovpbzrob\n",
      "efkmvipjvtliv\n",
      "tuzbkxeykiaxk\n",
      "styajwdxjhzwj\n",
      "zafhqdkeqogdq\n",
      "ghmoxkrlxvnkx\n",
      "ijoqzmtnzxpmz\n"
     ]
    }
   ],
   "source": [
    "frq=list('etaoinshrdlcumwfgypbvkjqxz') #alphabet by frequency ordering\n",
    "dict_=dict(zip(list(string.ascii_lowercase),[0]*26))\n",
    "cipher_low=cipher.lower()\n",
    "\n",
    "#finding most frequent letter\n",
    "for i in cipher_low:\n",
    "    dict_[i]=dict_[i]+1\n",
    "    \n",
    "dict_ = sorted(dict_.items(), key= lambda x:x[1],reverse=True)\n",
    "letter=dict_[0][0]\n",
    "\n",
    "#calculation and decryption of all possible cases but the most probable ones printed first\n",
    "for i in frq:\n",
    "    shiftfound=(ord(i)-ord(letter))\n",
    "    x=shiftfound\n",
    "    tr = string.ascii_lowercase \n",
    "    tr = tr[x:] + tr [:x] \n",
    "    _tr = string.ascii_uppercase \n",
    "    _tr = _tr[x:] + _tr[:x] \n",
    "    decipher=(cipher.translate(str.maketrans(string.ascii_lowercase,tr)).translate(str.maketrans(string.ascii_uppercase,_tr)))\n",
    "    print(decipher)"
   ]
  }
 ],
 "metadata": {
  "kernelspec": {
   "display_name": "Python 3",
   "language": "python",
   "name": "python3"
  },
  "language_info": {
   "codemirror_mode": {
    "name": "ipython",
    "version": 3
   },
   "file_extension": ".py",
   "mimetype": "text/x-python",
   "name": "python",
   "nbconvert_exporter": "python",
   "pygments_lexer": "ipython3",
   "version": "3.9.0"
  }
 },
 "nbformat": 4,
 "nbformat_minor": 4
}

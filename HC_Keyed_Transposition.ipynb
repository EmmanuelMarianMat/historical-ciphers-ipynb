{
 "cells": [
  {
   "cell_type": "markdown",
   "metadata": {},
   "source": [
    "# Header"
   ]
  },
  {
   "cell_type": "code",
   "execution_count": 1,
   "metadata": {},
   "outputs": [],
   "source": [
    "import string\n",
    "key = [3,1,4,5,2]\n",
    "n = len(key)\n",
    "reg = list(range(1, n+1))\n",
    "dict1 = dict(zip(reg,key))\n",
    "dict2 = dict(zip(key,reg))"
   ]
  },
  {
   "cell_type": "markdown",
   "metadata": {},
   "source": [
    "# Encryption"
   ]
  },
  {
   "cell_type": "markdown",
   "metadata": {},
   "source": [
    "First we divide the string into blocks of size = key_array_size and we fill the last row (if neccesary) with bogus charecter 'z'. Then we add the element rows from this matrix one by one (in the order 1,2,3,4,5) to a new matrix according to the order specified in key. And then join the list to obtain ciphertext"
   ]
  },
  {
   "cell_type": "code",
   "execution_count": 2,
   "metadata": {},
   "outputs": [],
   "source": [
    "def transposition(s):\n",
    "    s = s + ((n-(len(s)%n))%n)*'z'\n",
    "    x = len(s)//n\n",
    "    l=[]\n",
    "    for i in range(n):\n",
    "        s_=''\n",
    "        for j in range(len(s)):\n",
    "            if(j%n==i):\n",
    "                s_=s_+s[j]\n",
    "        l.append(s_)\n",
    "    l_=[]\n",
    "    for i in range(1,n+1):\n",
    "        l_.append(l[dict1[i]-1])\n",
    "    l_=''.join(l_)\n",
    "    l__=[]\n",
    "    for i in range(x):\n",
    "        s_=''\n",
    "        for j in range(len(s)):\n",
    "            if(j%x==i):\n",
    "                s_=s_+l_[j]\n",
    "        l__.append(s_)\n",
    "    return ''.join(l__)"
   ]
  },
  {
   "cell_type": "markdown",
   "metadata": {},
   "source": [
    "# Decryption"
   ]
  },
  {
   "cell_type": "markdown",
   "metadata": {},
   "source": [
    "First we divide the string into blocks of size = key_array_size. Then we take the rows in the order specified in the key (say in this case 3,1,4,5,2 and add them to a new array. And then join the list to obtain decrypted text"
   ]
  },
  {
   "cell_type": "code",
   "execution_count": 3,
   "metadata": {},
   "outputs": [],
   "source": [
    "def detransposition(s):\n",
    "    l=[]\n",
    "    x = len(s)//n\n",
    "    l = [(s[i:i+n]) for i in range(0, len(s), n)]\n",
    "    col=[]\n",
    "    for i in range(n):\n",
    "        s_=''\n",
    "        for j in range(len(s)):\n",
    "            if(j%n==i):\n",
    "                s_=s_+s[j]\n",
    "        col.append(s_)\n",
    "    l_=[]\n",
    "    for i in range(1,n+1):\n",
    "        l_.append(col[dict2[i]-1])\n",
    "    s_=''\n",
    "    for i in range(x):\n",
    "        for j in l_:\n",
    "            s_=s_+j[i]\n",
    "    return s_"
   ]
  },
  {
   "cell_type": "markdown",
   "metadata": {},
   "source": [
    "# Main"
   ]
  },
  {
   "cell_type": "code",
   "execution_count": 4,
   "metadata": {
    "scrolled": false
   },
   "outputs": [
    {
     "name": "stdout",
     "output_type": "stream",
     "text": [
      "helloworld\n",
      "lhloerwldo\n",
      "helloworld\n"
     ]
    }
   ],
   "source": [
    "t=input()\n",
    "text=''.join(t.split())\n",
    "text_=transposition(text)\n",
    "print(text_)\n",
    "print(detransposition(text_))"
   ]
  },
  {
   "cell_type": "markdown",
   "metadata": {},
   "source": [
    "# Input of Ciphertext to be decrypted"
   ]
  },
  {
   "cell_type": "code",
   "execution_count": 5,
   "metadata": {
    "scrolled": true
   },
   "outputs": [
    {
     "name": "stdout",
     "output_type": "stream",
     "text": [
      "eemyntaacttkonshitzg\n"
     ]
    }
   ],
   "source": [
    "cipher=input()"
   ]
  },
  {
   "cell_type": "markdown",
   "metadata": {},
   "source": [
    "# Chosen Plaintext"
   ]
  },
  {
   "cell_type": "markdown",
   "metadata": {},
   "source": [
    "We try to find the \"keytext\" (in this case a list of numbers) for all possible sizes of key. First we divide cipherofchosen into blocks of assumed keysize. Now we know that the letter with smallest index in each block (say number i indexed from 0) is the i* j-th letter in the alphabet. So if we subtract this letter from all the letters in this block if we get a positive/zero value if it is the corect number of columns. We append these values to the keytext. The smallest number such that all the differences are positive with be the required size of the key (let it be keylenfound). And key is the first keylenfound elements of keytext.\n",
    "\n",
    "Using this key decipher the given ciphertext"
   ]
  },
  {
   "cell_type": "code",
   "execution_count": 6,
   "metadata": {
    "scrolled": true
   },
   "outputs": [
    {
     "name": "stdout",
     "output_type": "stream",
     "text": [
      "enemyattackstonightz\n"
     ]
    }
   ],
   "source": [
    "chosenplain = string.ascii_lowercase\n",
    "cipherofchosen = transposition(chosenplain)\n",
    "start=ord(cipherofchosen[0])-96\n",
    "for j in range(start,(len(cipherofchosen))+1,1):\n",
    "    l = [(cipherofchosen[i:i+j]) for i in range(0, len(cipherofchosen), j)]\n",
    "    m = []\n",
    "    for i in range(len(l)):\n",
    "        for k in l[i]:\n",
    "            m.append(ord(k) - i*j - 96) \n",
    "    flag=1\n",
    "    for i in m:\n",
    "        if(i<1):\n",
    "            flag=0\n",
    "            break\n",
    "    if flag:\n",
    "        keyfound=j\n",
    "        break\n",
    "        \n",
    "keyfound_= m[0:keyfound]\n",
    "reg_ = list(range(1, keyfound+1))\n",
    "dict_ = dict(zip(keyfound_,reg))\n",
    "n_=keyfound\n",
    "l=[]\n",
    "x = len(cipher)//keyfound\n",
    "l = [(cipher[i:i+n_]) for i in range(0, len(cipher), n_)]\n",
    "col=[]\n",
    "for i in range(n_):\n",
    "    s_=''\n",
    "    for j in range(len(cipher)):\n",
    "        if(j%n_==i):\n",
    "            s_=s_+cipher[j]\n",
    "    col.append(s_)\n",
    "l_=[]\n",
    "for i in range(1,n_+1):\n",
    "    l_.append(col[dict_[i]-1])\n",
    "decipher=''\n",
    "for i in range(x):\n",
    "    for j in l_:\n",
    "        decipher=decipher+j[i]\n",
    "print(decipher)"
   ]
  },
  {
   "cell_type": "markdown",
   "metadata": {},
   "source": [
    "# Chosen Ciphertext"
   ]
  },
  {
   "cell_type": "markdown",
   "metadata": {},
   "source": [
    "I observed that permuting the rows using any key for keylength number of times yields the same result. Suppose keylength is 5 and -> denotes one time encryption then we can observe the cycle as text -> inter1 -> inter2 -> inter3 -> inter4 -> text. So when the text is decrypted, we will get inter4. Let the corresponding permutation of decryption denoted by inv_key. If we permute text keylen-1 times (here it is 4) according to inv_key we get the permutation of inter1 which is the permutation of encryption. This is the logic behind finding the key.\n",
    "\n",
    "We find the inv_key like we found key in chosen plaintext attack and permute list [1,2,...,keylength] according to inv_key keylength - 1 times ang get the key.\n",
    "\n",
    "Using this key, we decrypt the ciphertext"
   ]
  },
  {
   "cell_type": "code",
   "execution_count": 7,
   "metadata": {},
   "outputs": [
    {
     "name": "stdout",
     "output_type": "stream",
     "text": [
      "enemyattackstonightz\n"
     ]
    }
   ],
   "source": [
    "chosencipher = string.ascii_lowercase\n",
    "decipherofchosen = detransposition(chosencipher)\n",
    "start=ord(cipherofchosen[0])-96\n",
    "for j in range(start,(len(decipherofchosen)//2)+1,1):\n",
    "    l = [(decipherofchosen[i:i+j]) for i in range(0, len(decipherofchosen), j)]\n",
    "    m = []\n",
    "    for i in range(len(l)):\n",
    "        for k in l[i]:\n",
    "            m.append(ord(k) - i*j - 96) \n",
    "    flag=1\n",
    "    for i in m:\n",
    "        if(i<1):\n",
    "            flag=0\n",
    "            break\n",
    "    if flag:\n",
    "        keyfound=j\n",
    "        break\n",
    "invkey= m[0:keyfound]\n",
    "reg_= list(range(1, keyfound+1))\n",
    "for i in range(keyfound-1):\n",
    "    l_=[]\n",
    "    for j in range(keyfound):\n",
    "        l_.append(reg_[invkey[j]-1])\n",
    "    reg_=l_\n",
    "keyfound_=reg_\n",
    "reg_ = list(range(1, keyfound+1))\n",
    "dict_ = dict(zip(keyfound_,reg))\n",
    "n_=keyfound\n",
    "l=[]\n",
    "x = len(cipher)//keyfound\n",
    "l = [(cipher[i:i+n_]) for i in range(0, len(cipher), n_)]\n",
    "col=[]\n",
    "for i in range(n_):\n",
    "    s_=''\n",
    "    for j in range(len(cipher)):\n",
    "        if(j%n_==i):\n",
    "            s_=s_+cipher[j]\n",
    "    col.append(s_)\n",
    "l_=[]\n",
    "for i in range(1,n_+1):\n",
    "    l_.append(col[dict_[i]-1])\n",
    "decipher=''\n",
    "for i in range(x):\n",
    "    for j in l_:\n",
    "        decipher=decipher+j[i]\n",
    "print(decipher)"
   ]
  },
  {
   "cell_type": "markdown",
   "metadata": {},
   "source": [
    "# Ciphertext Only"
   ]
  },
  {
   "cell_type": "markdown",
   "metadata": {},
   "source": [
    "Here we decrypt the message using corresponding to all possible permutations of keys of all possible sizes. We add decrypted text corresponding to each key to possibledecipher. We find the number of meaningful words in each entry in possibledecipher and print them, the one with most number of meaningful words first, then the one with most second number of meaningful words next and so on"
   ]
  },
  {
   "cell_type": "code",
   "execution_count": 12,
   "metadata": {
    "scrolled": false
   },
   "outputs": [
    {
     "name": "stdout",
     "output_type": "stream",
     "text": [
      "enemyattackstonightz\n",
      "yemeanatkctthosngizt\n",
      "ymeeaantktcthsongzit\n",
      "yemeatankttchnsogtzi\n",
      "enemyttaactskonhgitz\n",
      "mneeyattacostkntghiz\n",
      "nymeetcatasnotkgzthi\n",
      "enymeatcatksnotigzth\n",
      "nymeetcaatsnoktgztih\n",
      "eemyntaacttkonshitzg\n"
     ]
    }
   ],
   "source": [
    "#assuming that keylength <= 9 because of computational limits. If we need to consider all the keys we can \n",
    "possibledecipher=[]\n",
    "for j in range(2,10):\n",
    "    if len(cipher)%j != 0:  #if the length of the cipher is not a multiple of i, then number of columns cannot be i \n",
    "        continue            #since bogus letters are added to fill the matrix during encryptiona\n",
    "    from itertools import permutations \n",
    "    possiblekey = list(permutations(range(1, j+1))) \n",
    "    for i in possiblekey:\n",
    "        keyfound=len(i)\n",
    "        keyfound_=i\n",
    "        reg_ = list(range(1, keyfound+1))\n",
    "        dict_ = dict(zip(keyfound_,reg_))\n",
    "        n_=keyfound\n",
    "        l=[]\n",
    "        x = len(cipher)//keyfound\n",
    "        l = [(cipher[i:i+n_]) for i in range(0, len(cipher), n_)]\n",
    "        col=[]\n",
    "        for i in range(n_):\n",
    "            s_=''\n",
    "            for j in range(len(cipher)):\n",
    "                if(j%n_==i):\n",
    "                    s_=s_+cipher[j]\n",
    "            col.append(s_)\n",
    "        l_=[]\n",
    "        for i in range(1,n_+1):\n",
    "            l_.append(col[dict_[i]-1])\n",
    "        decipher=''\n",
    "        for i in range(x):\n",
    "            for j in l_:\n",
    "                decipher=decipher+j[i]\n",
    "\n",
    "        possibledecipher.append(decipher)\n",
    "count=dict(zip(possibledecipher,[0]*(len(possibledecipher)))) \n",
    "file = open('words1000.txt', 'r') #file containing most fequently used 100 English words\n",
    "for each in file:#loop that counts the number of meaningful words in each entry in possibilty\n",
    "    each=each.rstrip()\n",
    "    if len(each)<4:\n",
    "        continue\n",
    "    for i in possibledecipher:\n",
    "        if each in i or each.upper() in i:\n",
    "            count[i]=count[i]+1           \n",
    "count = sorted(count.items(), key= lambda x:x[1],reverse=True) #sorts in descending order according the number of meaningful words\n",
    "for i in range(10):\n",
    "    decipher=count[i][0]\n",
    "    print(decipher)"
   ]
  },
  {
   "cell_type": "markdown",
   "metadata": {},
   "source": [
    "**Since there is no guarentee that the known plaintext will not have repeated letters, I could not come up with a known plaintext attack for this cipher**"
   ]
  }
 ],
 "metadata": {
  "kernelspec": {
   "display_name": "Python 3",
   "language": "python",
   "name": "python3"
  },
  "language_info": {
   "codemirror_mode": {
    "name": "ipython",
    "version": 3
   },
   "file_extension": ".py",
   "mimetype": "text/x-python",
   "name": "python",
   "nbconvert_exporter": "python",
   "pygments_lexer": "ipython3",
   "version": "3.9.0"
  }
 },
 "nbformat": 4,
 "nbformat_minor": 4
}

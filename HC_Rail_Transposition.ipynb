{
 "cells": [
  {
   "cell_type": "markdown",
   "metadata": {},
   "source": [
    "# Encryption"
   ]
  },
  {
   "cell_type": "markdown",
   "metadata": {},
   "source": [
    "Create a list of two empty strings. Add the letters at odd positions to the first element of the list and the letters at even positions to the second element of the list. Join the elements of the list and obtain cipher"
   ]
  },
  {
   "cell_type": "code",
   "execution_count": 1,
   "metadata": {
    "scrolled": true
   },
   "outputs": [],
   "source": [
    "def rail(s):\n",
    "    s_=['','']\n",
    "    for i in range(len(s)):\n",
    "        s_[i%2]=s_[i%2]+s[i]\n",
    "    return ''.join(s_)"
   ]
  },
  {
   "cell_type": "markdown",
   "metadata": {},
   "source": [
    "# Decryption"
   ]
  },
  {
   "cell_type": "markdown",
   "metadata": {},
   "source": [
    "Divide the cipher into two halves. Take the first letter from each half and append it to the string, then the second until the length(cipher)/2 th letter"
   ]
  },
  {
   "cell_type": "code",
   "execution_count": 2,
   "metadata": {},
   "outputs": [],
   "source": [
    "def derail(s):\n",
    "    import math\n",
    "    ind=math.ceil(len(s)/2)\n",
    "    slist=[s[0:ind],s[ind:]]\n",
    "    ret=''\n",
    "    for i in range(ind):\n",
    "        ret=ret+slist[0][i]\n",
    "        if i<len(slist[1]):\n",
    "            ret=ret+slist[1][i]\n",
    "    return ret"
   ]
  },
  {
   "cell_type": "markdown",
   "metadata": {},
   "source": [
    "# Main"
   ]
  },
  {
   "cell_type": "code",
   "execution_count": 3,
   "metadata": {
    "scrolled": true
   },
   "outputs": [
    {
     "name": "stdout",
     "output_type": "stream",
     "text": [
      "helloworld\n",
      "hloolelwrd\n",
      "helloworld\n"
     ]
    }
   ],
   "source": [
    "t=input()\n",
    "text=''.join(t.split())\n",
    "print(rail(text))\n",
    "print(derail(rail(text)))"
   ]
  },
  {
   "cell_type": "markdown",
   "metadata": {},
   "source": [
    "# Input of ciphertext to be decrypted"
   ]
  },
  {
   "cell_type": "code",
   "execution_count": 4,
   "metadata": {},
   "outputs": [
    {
     "name": "stdout",
     "output_type": "stream",
     "text": [
      "memateaketethpr\n"
     ]
    }
   ],
   "source": [
    "cipher=input()"
   ]
  },
  {
   "cell_type": "markdown",
   "metadata": {},
   "source": [
    "# Only Ciphertext"
   ]
  },
  {
   "cell_type": "markdown",
   "metadata": {},
   "source": [
    "Just like decryption algorithm"
   ]
  },
  {
   "cell_type": "code",
   "execution_count": 5,
   "metadata": {},
   "outputs": [
    {
     "name": "stdout",
     "output_type": "stream",
     "text": [
      "meetmeatthepark\n"
     ]
    }
   ],
   "source": [
    "s=cipher\n",
    "import math\n",
    "ind=math.ceil(len(s)/2)\n",
    "slist=[s[0:ind],s[ind:]]\n",
    "ret=''\n",
    "for i in range(ind):\n",
    "    ret=ret+slist[0][i]\n",
    "    if i<len(slist[1]):\n",
    "        ret=ret+slist[1][i]  \n",
    "decipher=ret\n",
    "print(decipher)"
   ]
  }
 ],
 "metadata": {
  "kernelspec": {
   "display_name": "Python 3",
   "language": "python",
   "name": "python3"
  },
  "language_info": {
   "codemirror_mode": {
    "name": "ipython",
    "version": 3
   },
   "file_extension": ".py",
   "mimetype": "text/x-python",
   "name": "python",
   "nbconvert_exporter": "python",
   "pygments_lexer": "ipython3",
   "version": "3.9.0"
  }
 },
 "nbformat": 4,
 "nbformat_minor": 4
}

{
 "cells": [
  {
   "cell_type": "markdown",
   "metadata": {},
   "source": [
    "# Header"
   ]
  },
  {
   "cell_type": "code",
   "execution_count": 3,
   "metadata": {},
   "outputs": [],
   "source": [
    "import string\n",
    "key = 'phqgiumeaylnofdxjkrcvstzwb'\n",
    "key_= key.upper()"
   ]
  },
  {
   "cell_type": "markdown",
   "metadata": {},
   "source": [
    "# Encrypt"
   ]
  },
  {
   "cell_type": "markdown",
   "metadata": {},
   "source": [
    "Substitute each letter in the alphabet with corresponding letter in the key using translate()"
   ]
  },
  {
   "cell_type": "code",
   "execution_count": 4,
   "metadata": {},
   "outputs": [],
   "source": [
    "def substitution(text):\n",
    "    return text.translate(str.maketrans(string.ascii_lowercase,key)).translate(str.maketrans(string.ascii_uppercase,key_))"
   ]
  },
  {
   "cell_type": "markdown",
   "metadata": {},
   "source": [
    "# Decrypt"
   ]
  },
  {
   "cell_type": "markdown",
   "metadata": {},
   "source": [
    "Substitute each letter in the key with corresponding letter in the alphabet using translate()"
   ]
  },
  {
   "cell_type": "code",
   "execution_count": 5,
   "metadata": {},
   "outputs": [],
   "source": [
    "def desubstitution(text):\n",
    "    return text.translate(str.maketrans(key,string.ascii_lowercase)).translate(str.maketrans(key_,string.ascii_uppercase))"
   ]
  },
  {
   "cell_type": "markdown",
   "metadata": {},
   "source": [
    "# Main"
   ]
  },
  {
   "cell_type": "code",
   "execution_count": 7,
   "metadata": {
    "scrolled": true
   },
   "outputs": [
    {
     "name": "stdout",
     "output_type": "stream",
     "text": [
      "defend the walls\n",
      "giuifgceitpnnr\n",
      "defendthewalls\n"
     ]
    }
   ],
   "source": [
    "t=input()\n",
    "text=''.join(t.split())\n",
    "text_ = substitution(text)\n",
    "print(text_)\n",
    "print(desubstitution(text_))"
   ]
  },
  {
   "cell_type": "markdown",
   "metadata": {},
   "source": [
    "# Input of Ciphertext to be Decrypted"
   ]
  },
  {
   "cell_type": "code",
   "execution_count": 8,
   "metadata": {
    "scrolled": false
   },
   "outputs": [
    {
     "name": "stdout",
     "output_type": "stream",
     "text": [
      "ifiowpcceihdkgik\n"
     ]
    }
   ],
   "source": [
    "cipher=input();"
   ]
  },
  {
   "cell_type": "markdown",
   "metadata": {},
   "source": [
    "# Chosen Plaintext"
   ]
  },
  {
   "cell_type": "markdown",
   "metadata": {},
   "source": [
    "Find the corresponding mappings of each alphabet by encrypting the alphabet using encryption algorithm and then decipher using the translate function. We can do this because it is a monoalphabetic cipher and each letter is mapped to one and only one letter"
   ]
  },
  {
   "cell_type": "code",
   "execution_count": 9,
   "metadata": {},
   "outputs": [
    {
     "name": "stdout",
     "output_type": "stream",
     "text": [
      "enemyattheborder\n"
     ]
    }
   ],
   "source": [
    "chosenplain=string.ascii_lowercase+string.ascii_uppercase\n",
    "cipherofchosen=substitution(chosenplain)\n",
    "decipher=cipher.translate(str.maketrans(cipherofchosen,string.ascii_lowercase+string.ascii_uppercase))\n",
    "print(decipher)"
   ]
  },
  {
   "cell_type": "markdown",
   "metadata": {},
   "source": [
    "# Chosen Ciphertext"
   ]
  },
  {
   "cell_type": "markdown",
   "metadata": {},
   "source": [
    "Find the corresponding inverse mappings of each alphabet (inverse mapping of 'a' is the letter which will be encrypted to an 'a') by decrypting the alphabet using decyption algorithm and then decipher using the translate function."
   ]
  },
  {
   "cell_type": "code",
   "execution_count": 10,
   "metadata": {},
   "outputs": [
    {
     "name": "stdout",
     "output_type": "stream",
     "text": [
      "enemyattheborder\n"
     ]
    }
   ],
   "source": [
    "chosencipher=string.ascii_lowercase+string.ascii_uppercase\n",
    "decipherofchosen=desubstitution(chosenplain)\n",
    "decipher=cipher.translate(str.maketrans(string.ascii_lowercase+string.ascii_uppercase,decipherofchosen))\n",
    "print(decipher)"
   ]
  },
  {
   "cell_type": "markdown",
   "metadata": {},
   "source": [
    "It was not feasible to do a known plaintext (unless it is very large and covered most of the alphabet) or only ciphertext attack on substitutional cipher due to computational difficulties"
   ]
  }
 ],
 "metadata": {
  "kernelspec": {
   "display_name": "Python 3",
   "language": "python",
   "name": "python3"
  },
  "language_info": {
   "codemirror_mode": {
    "name": "ipython",
    "version": 3
   },
   "file_extension": ".py",
   "mimetype": "text/x-python",
   "name": "python",
   "nbconvert_exporter": "python",
   "pygments_lexer": "ipython3",
   "version": "3.9.0"
  }
 },
 "nbformat": 4,
 "nbformat_minor": 4
}

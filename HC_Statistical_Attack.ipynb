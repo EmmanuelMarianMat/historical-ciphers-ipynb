{
 "cells": [
  {
   "cell_type": "markdown",
   "id": "mature-comfort",
   "metadata": {},
   "source": [
    "### Statistical Attack"
   ]
  },
  {
   "cell_type": "code",
   "execution_count": 16,
   "id": "another-disability",
   "metadata": {},
   "outputs": [],
   "source": [
    "dict1 ={'a':0, 'b':1, 'c':2, 'd':3, 'e':4, 'f':5, 'g':6, 'h':7, 'i':8, 'j':9, 'k':10, 'l':11, 'm':12, 'n':13, 'o':14, 'p':15, 'q':16, 'r':17, 's':18, 't':19, 'u':20, 'v':21, 'w':22, 'x':23, 'y':24, 'z':25}\n",
    "key_list = list(dict1.keys())\n",
    "val_list = list(dict1.values())"
   ]
  },
  {
   "cell_type": "markdown",
   "id": "cheap-vienna",
   "metadata": {},
   "source": [
    "### Find the occurence of the letters in the cipher given"
   ]
  },
  {
   "cell_type": "code",
   "execution_count": 17,
   "id": "sporting-prophet",
   "metadata": {},
   "outputs": [],
   "source": [
    "def occurences(cipher):\n",
    "    total = []\n",
    "    for letter in key_list:\n",
    "        total.append((cipher.count(letter),letter))\n",
    "    total.sort()\n",
    "    return total"
   ]
  },
  {
   "cell_type": "code",
   "execution_count": 27,
   "id": "indoor-daily",
   "metadata": {},
   "outputs": [
    {
     "data": {
      "text/plain": [
       "[(0, 'e'),\n",
       " (0, 'o'),\n",
       " (0, 'v'),\n",
       " (1, 'c'),\n",
       " (2, 'g'),\n",
       " (3, 'p'),\n",
       " (4, 'd'),\n",
       " (5, 'r'),\n",
       " (7, 'k'),\n",
       " (8, 'a'),\n",
       " (8, 'l'),\n",
       " (9, 'b'),\n",
       " (12, 'z'),\n",
       " (16, 'm'),\n",
       " (16, 'u'),\n",
       " (18, 'h'),\n",
       " (20, 'i'),\n",
       " (22, 'q'),\n",
       " (25, 'w'),\n",
       " (27, 'f'),\n",
       " (31, 'x'),\n",
       " (39, 's'),\n",
       " (39, 't'),\n",
       " (40, 'n'),\n",
       " (45, 'y'),\n",
       " (60, 'j')]"
      ]
     },
     "execution_count": 27,
     "metadata": {},
     "output_type": "execute_result"
    }
   ],
   "source": [
    "cipher = \"ymnxhtzwxjfnrxytuwtanijdtzbnymijyfnqjipstbqjiljtknrutwyfsyyjhmstqtlnjxfsifuuqnhfyntsymfyfwjzxjinsymjnsyjwsjyizjytymjgwtfisfyzwjtkymnxknjqiymjhtzwxjhtajwxtsqdxjqjhyjiytunhxkthzxxnslknwxytsxtrjfiafshjiytunhxnsnsyjwsjyyjhmstqtlnjxjlbnwjqjxxqfsxrtgnqjnsyjwsjyrzqynhfxyfsiymjsfxjqjhyntstkhzwwjsyfsisjcyljsjwfyntsfuuqnhfyntsxfsixjwanhjxjluunuyaatnudtzbnqqqjfwsmtbymjnsyjwsjybtwpxfsimtbxjwanhjxfsifuuqnhfyntsxfwjuwtanijiytzxjwxtkymjnsyjwsjyymnxpstbqjiljbnqqmjqudtz\"\n",
    "cipherDensity = occurences(cipher)\n",
    "cipherDensity"
   ]
  },
  {
   "cell_type": "markdown",
   "id": "verbal-reaction",
   "metadata": {},
   "source": [
    "#### Since e is the highest repeating character we can find the k value that i,e. shift value"
   ]
  },
  {
   "cell_type": "code",
   "execution_count": 30,
   "id": "prime-account",
   "metadata": {},
   "outputs": [
    {
     "name": "stdout",
     "output_type": "stream",
     "text": [
      "thiscourseaimstoprovideyouwithdetailedknowledgeofimportanttechnologiesandapplicationthatareusedintheinternetduetothebroadnatureofthisfieldthecoursecoversonlyselectedtopicsfocussingfirstonsomeadvancedtopicsininternettechnologiesegwirelesslansmobileinternetmulticastandthenaselectionofcurrentandnextgenerationapplicationsandservicesegppiptvvoipyouwilllearnhowtheinternetworksandhowservicesandapplicationsareprovidedtousersoftheinternetthisknowledgewillhelpyou\n"
     ]
    }
   ],
   "source": [
    "k = dict1[cipherDensity[-1][1]]-dict1['e']\n",
    "message = ''\n",
    "for i in cipher:\n",
    "    if(i == ' '):\n",
    "        message = message +' '\n",
    "        continue\n",
    "    x = dict1[i]-k\n",
    "    if(x<0):\n",
    "        x = x+26\n",
    "    message = message + key_list[val_list.index(x)]\n",
    "print(message)"
   ]
  }
 ],
 "metadata": {
  "kernelspec": {
   "display_name": "Python 3",
   "language": "python",
   "name": "python3"
  },
  "language_info": {
   "codemirror_mode": {
    "name": "ipython",
    "version": 3
   },
   "file_extension": ".py",
   "mimetype": "text/x-python",
   "name": "python",
   "nbconvert_exporter": "python",
   "pygments_lexer": "ipython3",
   "version": "3.9.5"
  }
 },
 "nbformat": 4,
 "nbformat_minor": 5
}

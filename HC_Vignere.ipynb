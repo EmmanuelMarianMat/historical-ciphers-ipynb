{
 "cells": [
  {
   "cell_type": "markdown",
   "metadata": {},
   "source": [
    "# Initialisation"
   ]
  },
  {
   "cell_type": "code",
   "execution_count": 1,
   "metadata": {},
   "outputs": [],
   "source": [
    "import string\n",
    "key_ = \"AMBROISETHOMAS\"\n",
    "key = key_.lower()\n",
    "n = len(key)\n",
    "keylist = list(key)"
   ]
  },
  {
   "cell_type": "markdown",
   "metadata": {},
   "source": [
    "# Encrypt"
   ]
  },
  {
   "cell_type": "markdown",
   "metadata": {},
   "source": [
    "First we divide the text into blocks of size key_length and and for each entry in the list we encrypt the first letter with the shift corresponding to the index of first letter in the key, the second letter with the shift corresponding to the index of second letter in the key etc."
   ]
  },
  {
   "cell_type": "code",
   "execution_count": 2,
   "metadata": {},
   "outputs": [],
   "source": [
    "def vignere(s):\n",
    "    slist = [(s[i:i+n]) for i in range(0, len(s), n)]\n",
    "    x=''\n",
    "    for i in slist:\n",
    "        for j in range(len(i)):\n",
    "            if i[j].isupper():\n",
    "                x = x + chr(((ord(i[j])-65 + ord(key_[j])-65)%26)+65)\n",
    "            elif i[j].islower():\n",
    "                x = x + chr(((ord(i[j])-97 + ord(key[j])-97)%26)+97)\n",
    "            else:\n",
    "                x = x + i[j]\n",
    "    return x"
   ]
  },
  {
   "cell_type": "markdown",
   "metadata": {},
   "source": [
    "# Decrypt"
   ]
  },
  {
   "cell_type": "markdown",
   "metadata": {},
   "source": [
    "First we divide the text into blocks of size key_length and and for each entry in the list we decrypt the first letter with the shift corresponding to the index of first letter in the key, the second letter with the shift corresponding to the index of second letter in the key etc."
   ]
  },
  {
   "cell_type": "code",
   "execution_count": 3,
   "metadata": {},
   "outputs": [],
   "source": [
    "def devignere(s):\n",
    "    slist = [(s[i:i+n]) for i in range(0, len(s), n)]\n",
    "    x=''\n",
    "    for i in slist:\n",
    "        for j in range(len(i)):\n",
    "            if i[j].isupper():\n",
    "                x = x + chr(((ord(i[j]) - ord(key_[j]))%26)+65)\n",
    "            elif i[j].islower():\n",
    "                x = x + chr(((ord(i[j]) - ord(key[j]))%26)+97)\n",
    "            else:\n",
    "                x = x + i[j]\n",
    "    return x"
   ]
  },
  {
   "cell_type": "markdown",
   "metadata": {},
   "source": [
    "# Main"
   ]
  },
  {
   "cell_type": "code",
   "execution_count": 4,
   "metadata": {
    "scrolled": false
   },
   "outputs": [
    {
     "name": "stdout",
     "output_type": "stream",
     "text": [
      "helloworldmypeople\n",
      "hqmccegvekakpwobmv\n",
      "helloworldmypeople\n"
     ]
    }
   ],
   "source": [
    "t=input()\n",
    "text=''.join(t.split())\n",
    "print(vignere(text))\n",
    "print(devignere(vignere(text)))"
   ]
  },
  {
   "cell_type": "markdown",
   "metadata": {},
   "source": [
    "# Input of Ciphertext to be Decrypted"
   ]
  },
  {
   "cell_type": "code",
   "execution_count": 5,
   "metadata": {
    "scrolled": true
   },
   "outputs": [
    {
     "name": "stdout",
     "output_type": "stream",
     "text": [
      "DAZFISFSPAVQLSNPXYSZWXALCDAFGQUISMTPHZGAMKTTFTCCFXKFCRGGLPFETZMMMZOZDEADWVZWMWKVGQSOHQSVHPWFKLSLEASEPWHMJEGKPURVSXJXVBWVPOSDETEQTXOBZIKWCXLWNUOVJMJCLLOEOFAZENVMJILOWZEKAZEJAQDILSWWESGUGKTZGQZVRMNWTQSEOTKTKPBSTAMQVERMJEGLJQRTLGFJYGSPTZPGTACMOECBXSESCIYGUFPKVILLTWDKSZODFWFWEAAPQTFSTQIRGMPMELRYELHQSVWBAWMOSDELHMUZGPGYEKZUKWTAMZJMLSEVJQTGLAWVOVVXHKWQILIEUYSZWXAHHUSZOGMUZQCIMVZUVWIFJJHPWVXFSETZEDF\n"
     ]
    }
   ],
   "source": [
    "cipher=''.join(input().split())"
   ]
  },
  {
   "cell_type": "markdown",
   "metadata": {},
   "source": [
    "# Known Plaintext"
   ]
  },
  {
   "cell_type": "code",
   "execution_count": 6,
   "metadata": {
    "scrolled": false
   },
   "outputs": [
    {
     "name": "stdout",
     "output_type": "stream",
     "text": [
      "helloworldmypeople\n",
      "hqmccegvekakpwobmv\n"
     ]
    }
   ],
   "source": [
    "knownplain=input().lower()\n",
    "knowncipher=input().lower()"
   ]
  },
  {
   "cell_type": "markdown",
   "metadata": {},
   "source": [
    "We subtract the corresponding plaintext letters from ciphertext letters and obtain the keytext. i.e. if the key is 'pascal' the keytext will be something like 'pascalpascalpascalpasc'. Then we look for patterns in the keytext and the smallest pattern will be the key. In this case 'pascal'. Now decrypt the cipher using this key like in the decryption algorithm"
   ]
  },
  {
   "cell_type": "code",
   "execution_count": 7,
   "metadata": {},
   "outputs": [
    {
     "name": "stdout",
     "output_type": "stream",
     "text": [
      "DOYOUKNOWTHELANDWHERETHEORANGETREEBLOSSOMSTHECOUNTRYOFGOLDENFRUITSANDMARVELOUSROSESWHERETHEBREEZEISSOFTERANDBIRDSLIGHTERWHEREBEESGATHERPOLLENINEVERYSEASONANDWHERESHINESANDSMILESLIKEAGIFTFROMGODANETERNALSPRINGTIMEUNDERANEVERBLUESKYALASBUTICANNOTFOLLOWYOUTOTHATHAPPYSHOREFROMWHICHFATEHASEXILEDMETHEREITISTHERETHATISHOULDLIKETOLIVETOLOVETOLOVEANDTODIEITISTHERETHATISHOULDLIKETOLIVEITISTHEREYESTHERE\n"
     ]
    }
   ],
   "source": [
    "s=''\n",
    "for i in range(len(knownplain)):\n",
    "    keyele=chr(((ord(knowncipher[i])-ord(knownplain[i]))%26)+97)\n",
    "    s=s+keyele\n",
    "    \n",
    "\n",
    "for i in range(2,len(s)):\n",
    "    if i>(len(s)-i):\n",
    "        if(s[0:len(s)-i]==s[i:len(s)]):\n",
    "            keyfound=s[0:i]\n",
    "            break\n",
    "    else:\n",
    "        if s[0:i]==s[i:2*i]:\n",
    "            keyfound=s[0:i]\n",
    "            break\n",
    "            \n",
    "keyfound_ = keyfound.upper()\n",
    "n_=len(keyfound)\n",
    "slist = [(cipher[i:i+n_]) for i in range(0, len(cipher), n_)]\n",
    "decipher=''\n",
    "for i in slist:\n",
    "    for j in range(len(i)):\n",
    "        if i[j].isupper():\n",
    "            decipher = decipher + chr(((ord(i[j]) - ord(keyfound_[j]))%26)+65)\n",
    "        elif i[j].islower():\n",
    "            decipher = decipher + chr(((ord(i[j]) - ord(keyfound[j]))%26)+97)\n",
    "        else:\n",
    "            decipher = x + i[j]\n",
    "print(decipher)"
   ]
  },
  {
   "cell_type": "markdown",
   "metadata": {},
   "source": [
    "# Chosen Plaintext"
   ]
  },
  {
   "cell_type": "markdown",
   "metadata": {},
   "source": [
    "We pass 'aaaaaa...'2520 times. The corresponding encrypted message will be a keytext like in the known plaintext attack. The length of plaintext is chosen to 2520 because match() only detects pattern if pattern is not broken at the end so we choose a highly composite number with a lot of factors"
   ]
  },
  {
   "cell_type": "code",
   "execution_count": 8,
   "metadata": {},
   "outputs": [
    {
     "name": "stdout",
     "output_type": "stream",
     "text": [
      "DOYOUKNOWTHELANDWHERETHEORANGETREEBLOSSOMSTHECOUNTRYOFGOLDENFRUITSANDMARVELOUSROSESWHERETHEBREEZEISSOFTERANDBIRDSLIGHTERWHEREBEESGATHERPOLLENINEVERYSEASONANDWHERESHINESANDSMILESLIKEAGIFTFROMGODANETERNALSPRINGTIMEUNDERANEVERBLUESKYALASBUTICANNOTFOLLOWYOUTOTHATHAPPYSHOREFROMWHICHFATEHASEXILEDMETHEREITISTHERETHATISHOULDLIKETOLIVETOLOVETOLOVEANDTODIEITISTHERETHATISHOULDLIKETOLIVEITISTHEREYESTHERE\n"
     ]
    }
   ],
   "source": [
    "chosenplain ='a'*2520 #highly composite number because match() only detects complete patterns. Assuming keylength<10\n",
    "cipherofchosen= vignere(chosenplain)\n",
    "import re\n",
    "match= re.match(r'(.*?)(?:\\1)*$', cipherofchosen) \n",
    "keyfound= match.group(1) #finds the repeated pattern in cipherchosen\n",
    "keyfound_ = keyfound.upper()\n",
    "n_=len(keyfound)\n",
    "slist = [(cipher[i:i+n_]) for i in range(0, len(cipher), n_)]\n",
    "decipher=''\n",
    "for i in slist:\n",
    "    for j in range(len(i)):\n",
    "        if i[j].isupper():\n",
    "            decipher = decipher + chr(((ord(i[j]) - ord(keyfound_[j]))%26)+65)\n",
    "        elif i[j].islower():\n",
    "            decipher = decipher + chr(((ord(i[j]) - ord(keyfound[j]))%26)+97)\n",
    "        else:\n",
    "            decipher = x + i[j]\n",
    "print(decipher)"
   ]
  },
  {
   "cell_type": "markdown",
   "metadata": {},
   "source": [
    "# Chosen Ciphertext"
   ]
  },
  {
   "cell_type": "markdown",
   "metadata": {},
   "source": [
    "Decryption in this case can be seen as encryption with key's additive inverse. So we find the keytext by passing  'aaaaaa...'2520 times to the decryption algorithm and we get the additive inverse of the key so we take the inverse of that get the key. Now using this key we decrypt the message"
   ]
  },
  {
   "cell_type": "code",
   "execution_count": 9,
   "metadata": {},
   "outputs": [
    {
     "name": "stdout",
     "output_type": "stream",
     "text": [
      "DOYOUKNOWTHELANDWHERETHEORANGETREEBLOSSOMSTHECOUNTRYOFGOLDENFRUITSANDMARVELOUSROSESWHERETHEBREEZEISSOFTERANDBIRDSLIGHTERWHEREBEESGATHERPOLLENINEVERYSEASONANDWHERESHINESANDSMILESLIKEAGIFTFROMGODANETERNALSPRINGTIMEUNDERANEVERBLUESKYALASBUTICANNOTFOLLOWYOUTOTHATHAPPYSHOREFROMWHICHFATEHASEXILEDMETHEREITISTHERETHATISHOULDLIKETOLIVETOLOVETOLOVEANDTODIEITISTHERETHATISHOULDLIKETOLIVEITISTHEREYESTHERE\n"
     ]
    }
   ],
   "source": [
    "chosencipher ='a'*2520\n",
    "decipherofchosen= devignere(chosencipher)\n",
    "match= re.match(r'(.*?)(?:\\1)*$', decipherofchosen)\n",
    "temp= match.group(1)\n",
    "keyfound=''\n",
    "for i in range(len(temp)):\n",
    "    keyfound=keyfound+chr((123-ord(temp[i])%26)+97)\n",
    "n_=len(keyfound)\n",
    "slist = [(cipher[i:i+n_]) for i in range(0, len(cipher), n_)]\n",
    "decipher=''\n",
    "for i in slist:\n",
    "    for j in range(len(i)):\n",
    "        if i[j].isupper():\n",
    "            decipher = decipher + chr(((ord(i[j]) - ord(keyfound_[j]))%26)+65)\n",
    "        elif i[j].islower():\n",
    "            decipher = decipher + chr(((ord(i[j]) - ord(keyfound[j]))%26)+97)\n",
    "        else:\n",
    "            decipher = x + i[j]\n",
    "print(decipher)"
   ]
  },
  {
   "cell_type": "markdown",
   "metadata": {},
   "source": [
    "# Ciphertext Only (Kasiski's Test)"
   ]
  },
  {
   "cell_type": "markdown",
   "metadata": {},
   "source": [
    "We try to implement the Kasiski's test. First we make a list of all the possible trigrams and then store the positions of occurrance of the trigrams in a dictonary that maps the trigrams to an array of positions. Now we filter out all the trigrams which occur less than twice. Now we store in a list, the difference in positions of first and second occurance of trigrams using the dictionary. Take GCD of all the numbers in the list and you obtain the keylength"
   ]
  },
  {
   "cell_type": "markdown",
   "metadata": {},
   "source": [
    "Please note that I have taken another cipher input (to demonstrate the example in the PPT) for this attack"
   ]
  },
  {
   "cell_type": "code",
   "execution_count": 10,
   "metadata": {},
   "outputs": [
    {
     "name": "stdout",
     "output_type": "stream",
     "text": [
      "LIOMWGFEGGDVWGHHCQUCRHRWAGWIOWQLKGZETKKMEVLWPCZVGTHVTSGXQOVGCSVETQLTJSUMVWVEUVLXEWSLGFZMVVWLGYHCUSWXQHKVGSHEEVFLCFDGVSUMPHKIRZDMPHHBVWVWJWIXGFWLTSHGJOUEEHHVUCFVGOWICQLTJSUXGLW\n",
      "Length of the key = 4\n"
     ]
    }
   ],
   "source": [
    "cipher2=''.join(input().split())\n",
    "possible=[]\n",
    "for i in string.ascii_lowercase:\n",
    "    for j in string.ascii_lowercase:\n",
    "        for k in string.ascii_lowercase:\n",
    "            s=i+j+k\n",
    "            possible.append(s)\n",
    "            \n",
    "count={k: [] for k in possible} \n",
    "for i in possible:\n",
    "    index = 0\n",
    "    while index < len(cipher2):\n",
    "        index = cipher2.lower().find(i, index)\n",
    "        if index == -1:\n",
    "            break\n",
    "        count[i].append(index)\n",
    "        index += 3\n",
    "\n",
    "diff=[]\n",
    "for i in possible:\n",
    "    if len(count[i])<2:\n",
    "        count.pop(i)\n",
    "    else:\n",
    "        diff.append(count[i][1]-count[i][0])\n",
    "\n",
    "\n",
    "import math\n",
    "keylen=diff[0]\n",
    "for i in diff:\n",
    "    keylen=math.gcd(keylen,i)\n",
    "print(\"Length of the key =\",keylen)"
   ]
  },
  {
   "cell_type": "markdown",
   "metadata": {},
   "source": [
    "# Decryption and Printing most probable 10 outputs"
   ]
  },
  {
   "cell_type": "markdown",
   "metadata": {},
   "source": [
    "First we get all the strings of size keylength. Then we decipher the text using each possible key and store the results in possibledecipher. Then we try to find the number of meaningful words in each entry in possibledecipher and sort them according to this count. We then print 10 entries with most number of words in them"
   ]
  },
  {
   "cell_type": "code",
   "execution_count": 12,
   "metadata": {},
   "outputs": [
    {
     "name": "stdout",
     "output_type": "stream",
     "text": [
      "JULIUSCAESARUSEDACRYPTOSYSTEMINHISWARWHICHISNOWREFERREDTOASCAESARCIPHERITISASHITCIPHERWITHTHEKEYSETTOTHREEEACHCHARACTERINTHEPLAINTEXTISSHIFTERTHREECHARACTERSOCREATEACIPHERTEXT\n",
      "JQPIUOGAEOERUOIDAYVYPPSSYOXEMERHIOAARSLICDMSNKAREBIRRAHTOWWCAAWARYMPHAVITEWASDMTCETHENAITDXHEGIYSAXTOPLREAIACDGHANECTAVINPLEPHEINPIXTEWSHEJTENXHRAICHWVACPIRSKGREWXEAYMPHAVTETX\n",
      "JBPIUZGAEZERUZIDAJVYPASSYZXEMPRHIZAARDLICOMSNVAREMIRRLHTOHWCALWARJMPHLVITPWASOMTCPTHEYAITOXHERIYSLXTOALRELIACOGHAYECTLVINALEPSEINAIXTPWSHPJTEYXHRLICHHVACAIRSVGREHXEAJMPHLVTEEX\n",
      "JULMUSCEESAVUSEHACRCPTOWYSTIMINLISWERWHMCHIWNOWVEFEVREDXOASGAESERCITHERMTISESHIXCIPLERWMTHTLEKECSETXOTHVEEEECHCLARAGTERMNTHIPLAMNTEBTISWHIFXERTLREEGHARECTEVSOCVEATIACITHERXEXT\n",
      "JULLUSCDESAUUSEGACRBPTOVYSTHMINKISWDRWHLCHIVNOWUEFEUREDWOASFAESDRCISHERLTISDSHIWCIPKERWLTHTKEKEBSETWOTHUEEEDCHCKARAFTERLNTHHPLALNTEATISVHIFWERTKREEFHARDCTEUSOCUEATHACISHERWEXT\n",
      "JULCUSCUESALUSEXACRSPTOMYSTYMINBISWURWHCCHIMNOWLEFELREDNOASWAESURCIJHERCTISUSHINCIPBERWCTHTBEKESSETNOTHLEEEUCHCBARAWTERCNTHYPLACNTERTISMHIFNERTBREEWHARUCTELSOCLEATYACIJHERNEXT\n",
      "JULBUSCTESAKUSEWACRRPTOLYSTXMINAISWTRWHBCHILNOWKEFEKREDMOASVAESTRCIIHERBTISTSHIMCIPAERWBTHTAEKERSETMOTHKEEETCHCAARAVTERBNTHXPLABNTEQTISLHIFMERTAREEVHARTCTEKSOCKEATXACIIHERMEXT\n",
      "JUWSUSNKESLBUSPNACCIPTZCYSEOMIYRISHKRWSSCHTCNOHBEFPBREODOADMAEDKRCTZHECSTIDKSHTDCIARERHSTHEREKPISEEDOTSBEEPKCHNRARLMTECSNTSOPLLSNTPHTIDCHIQDERERREPMHACKCTPBSONBEAEOACTZHECDEXE\n",
      "JUPIUSGAESERUSIDACVYPTSSYSXEMIRHISAARWLICHMSNOAREFIRREHTOAWCAEWARCMPHEVITIWASHMTCITHERAITHXHEKIYSEXTOTLREEIACHGHARECTEVINTLEPLEINTIXTIWSHIJTERXHREICHAVACTIRSOGREAXEACMPHEVTEXX\n",
      "HXHJSVYBCVWSSVAEYFNZNWKTWVPFKLJIGVSBPZDJAKETLRSSCIASPHZUMDODYHOBPFEQFHNJRLOBQKEUALLICUSJRKPICNAZQHPUMWDSCHABAKYIYUWDRHNJLWDFNOWJLWAYRLOTFLBUCUPIPHADFDNBAWASQRYSCDPFYFEQFHNUCAP\n"
     ]
    }
   ],
   "source": [
    "possiblekey=[]\n",
    "for i in string.ascii_lowercase:\n",
    "    for j in string.ascii_lowercase:\n",
    "        for k in string.ascii_lowercase:\n",
    "            for l in string.ascii_lowercase:\n",
    "                s=i+j+k+l\n",
    "                possiblekey.append(s)\n",
    "\n",
    "possibledecipher=[]\n",
    "for x in possiblekey:\n",
    "    n_=keylen\n",
    "    slist = [(cipher2[i:i+n_]) for i in range(0, len(cipher2), n_)]\n",
    "    s=''\n",
    "    for i in slist:\n",
    "        for j in range(len(i)):\n",
    "            if i[j].isupper():\n",
    "                s = s + chr(((ord(i[j]) - ord(x.upper()[j]))%26)+65)\n",
    "            elif i[j].islower():\n",
    "                s = s + chr(((ord(i[j]) - ord(x[j]))%26)+97)\n",
    "            else:\n",
    "                s = s + i[j]\n",
    "    possibledecipher.append(s)  \n",
    "count=dict(zip(possibledecipher,[0]*(26**keylen))) \n",
    "file = open('word100.txt', 'r') #file containing most fequently used 100 English words\n",
    "for each in file:#loop that counts the number of meaningful words in each entry in possibilty\n",
    "    each=each.rstrip()\n",
    "    if len(each)<3:\n",
    "        continue\n",
    "    for i in possibledecipher:\n",
    "        if each in i or each.upper() in i:\n",
    "            count[i]=count[i]+1\n",
    "            \n",
    "count = sorted(count.items(), key= lambda x:x[1],reverse=True) #sorts in descending order according the number of meaningful words\n",
    "for i in range(10):\n",
    "    decipher=count[i][0]\n",
    "    print(decipher)"
   ]
  }
 ],
 "metadata": {
  "kernelspec": {
   "display_name": "Python 3",
   "language": "python",
   "name": "python3"
  },
  "language_info": {
   "codemirror_mode": {
    "name": "ipython",
    "version": 3
   },
   "file_extension": ".py",
   "mimetype": "text/x-python",
   "name": "python",
   "nbconvert_exporter": "python",
   "pygments_lexer": "ipython3",
   "version": "3.9.0"
  }
 },
 "nbformat": 4,
 "nbformat_minor": 4
}

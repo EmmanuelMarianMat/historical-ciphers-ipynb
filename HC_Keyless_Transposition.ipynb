{
 "cells": [
  {
   "cell_type": "markdown",
   "metadata": {},
   "source": [
    "# Header"
   ]
  },
  {
   "cell_type": "code",
   "execution_count": 6,
   "metadata": {},
   "outputs": [],
   "source": [
    "import string\n",
    "n = 4"
   ]
  },
  {
   "cell_type": "markdown",
   "metadata": {},
   "source": [
    "# Encryption"
   ]
  },
  {
   "cell_type": "markdown",
   "metadata": {},
   "source": [
    "First we divide the string into blocks of size no_of_columns and we fill the last row (if neccesary) with bogus charecter 'z'. We club the first letter of each block, make a string and add it to a list, then we club the first letter of each block and make a string and append it to the same list and so on. Now we join all these strings in the list and obtain the cipher"
   ]
  },
  {
   "cell_type": "code",
   "execution_count": 7,
   "metadata": {},
   "outputs": [],
   "source": [
    "def transposition(s):\n",
    "    x = len(s)\n",
    "    y = x//n\n",
    "    s = s + ((n-(len(s)%n))%n)*'z'\n",
    "    l = [(s[i:i+n]) for i in range(0, len(s), n)]\n",
    "    l_ = []\n",
    "    for i in range(n):\n",
    "        s_=''\n",
    "        for j in range(len(s)):\n",
    "            if j % n == i:\n",
    "                s_=s_+s[j]\n",
    "        l_.append(s_)\n",
    "    return ''.join(l_)"
   ]
  },
  {
   "cell_type": "markdown",
   "metadata": {},
   "source": [
    "# Decryption"
   ]
  },
  {
   "cell_type": "markdown",
   "metadata": {},
   "source": [
    "First we divide the string into blocks of size no_of_rows and we fill the row (if neccesary) with bogus charecter 'z'. We club the first letter of each block, make a string and add it to a list, then we club the first letter of each block and make a string and append it to the same list and so on. Now we join all these strings in the list and obtain the decipher text"
   ]
  },
  {
   "cell_type": "code",
   "execution_count": 8,
   "metadata": {
    "scrolled": true
   },
   "outputs": [],
   "source": [
    "def detransposition(s):\n",
    "    x = len(s)\n",
    "    import math\n",
    "    y = math.ceil(x/n)\n",
    "    s = s + ((n-(len(s)%n))%n)*'z'\n",
    "    l = [(s[i:i+y]) for i in range(0, len(s), y)]\n",
    "    l_ = []\n",
    "    for i in range(y):\n",
    "        s_=''\n",
    "        for j in range(len(s)):\n",
    "            if j % y == i:\n",
    "                s_=s_+s[j]\n",
    "        l_.append(s_)\n",
    "    return ''.join(l_)"
   ]
  },
  {
   "cell_type": "markdown",
   "metadata": {},
   "source": [
    "# Main"
   ]
  },
  {
   "cell_type": "code",
   "execution_count": 9,
   "metadata": {
    "scrolled": true
   },
   "outputs": [
    {
     "name": "stdout",
     "output_type": "stream",
     "text": [
      "hello world\n",
      "holewdlozlrz\n",
      "helloworldzz\n"
     ]
    }
   ],
   "source": [
    "t=input()\n",
    "text=''.join(t.split())\n",
    "leng=len(text)\n",
    "text_= transposition(text)\n",
    "print(text_)\n",
    "print(detransposition(text_))"
   ]
  },
  {
   "cell_type": "markdown",
   "metadata": {},
   "source": [
    "# Input of Ciphertext to be Decrypted"
   ]
  },
  {
   "cell_type": "code",
   "execution_count": 10,
   "metadata": {
    "scrolled": false
   },
   "outputs": [
    {
     "name": "stdout",
     "output_type": "stream",
     "text": [
      "mmtaeehreaekttpz\n"
     ]
    }
   ],
   "source": [
    "cipher=input()"
   ]
  },
  {
   "cell_type": "markdown",
   "metadata": {},
   "source": [
    "# Known Plaintext"
   ]
  },
  {
   "cell_type": "markdown",
   "metadata": {},
   "source": [
    "When a plaintext is written as matrix, the letters from position 1 to number_of_columns will be in row 1 and the row 2 will start with letter at position number_of_columns + 1. This letter (position:number_of_columns + 1) will be the second letter of the ciphertext. Therefore the position of the_second_letter_in_cipher in plaintext - 1 will be the the number of columns used. Using the number of columns, decrypt the message"
   ]
  },
  {
   "cell_type": "code",
   "execution_count": 11,
   "metadata": {},
   "outputs": [
    {
     "name": "stdout",
     "output_type": "stream",
     "text": [
      "hello world\n",
      "holewdlozlrz\n"
     ]
    }
   ],
   "source": [
    "knownplain=''.join(input().lower().split())\n",
    "knowncipher=input().lower()"
   ]
  },
  {
   "cell_type": "code",
   "execution_count": 12,
   "metadata": {
    "scrolled": true
   },
   "outputs": [
    {
     "name": "stdout",
     "output_type": "stream",
     "text": [
      "meetmeattheparkz\n"
     ]
    }
   ],
   "source": [
    "letter=knowncipher[1]\n",
    "for num in range(len(knownplain)):\n",
    "    if knownplain[num]==letter:\n",
    "        break\n",
    "\n",
    "x = len(cipher)\n",
    "y = x//num\n",
    "s= cipher\n",
    "l_=[]\n",
    "for i in range(y):\n",
    "    s_=''\n",
    "    for j in range(len(cipher)):\n",
    "        if j % y == i:\n",
    "            s_=s_+s[j]\n",
    "    l_.append(s_)\n",
    "decipher=''.join(l_)\n",
    "print(decipher)      "
   ]
  },
  {
   "cell_type": "markdown",
   "metadata": {},
   "source": [
    "# Chosen Plaintext"
   ]
  },
  {
   "cell_type": "markdown",
   "metadata": {},
   "source": [
    "Using the same logic as before, the position of the_second_letter_in_cipher in plaintext - 1 will be the the number of columns used. The position of the letter in plaintext is the index of the letter since chosenplain is the lowercase alphabet (abcd...)"
   ]
  },
  {
   "cell_type": "code",
   "execution_count": 13,
   "metadata": {},
   "outputs": [
    {
     "name": "stdout",
     "output_type": "stream",
     "text": [
      "meetmeattheparkz\n"
     ]
    }
   ],
   "source": [
    "chosenplain = string.ascii_lowercase\n",
    "cipherofchosen = transposition(chosenplain)\n",
    "n_=ord(cipherofchosen[1])-97\n",
    "\n",
    "x = len(cipher)\n",
    "y = x//n_\n",
    "s = cipher\n",
    "s = s + ((n_-(len(s)%n_))%n_)*'z'\n",
    "\n",
    "l = [(s[i:i+y]) for i in range(0, len(s), y)]\n",
    "l_ = []\n",
    "for i in range(y):\n",
    "    s_=''\n",
    "    for j in range(len(s)):\n",
    "        if j % y == i:\n",
    "            s_=s_+s[j]\n",
    "    l_.append(s_)\n",
    "decipher=''.join(l_)\n",
    "print(decipher)"
   ]
  },
  {
   "cell_type": "markdown",
   "metadata": {},
   "source": [
    "# Chosen Ciphertext"
   ]
  },
  {
   "cell_type": "markdown",
   "metadata": {},
   "source": [
    "number_of_columns denotes the number of columns used in this encryption system and number of rows = len(cipher)/number_of_columns\n",
    "\n",
    "During decryption the ciphertext is written in a matrix of order number_of_columns * number_of_rows and then read columnwise. So the second letter in ciphertext will appear at position number_of_columns - 1 (since it is read column wise and the number of rows in this matrix = number_of_columns"
   ]
  },
  {
   "cell_type": "code",
   "execution_count": 14,
   "metadata": {},
   "outputs": [
    {
     "name": "stdout",
     "output_type": "stream",
     "text": [
      "meetmeattheparkz\n"
     ]
    }
   ],
   "source": [
    "chosencipher = string.ascii_lowercase#+string.ascii_uppercase\n",
    "decipherofchosen = detransposition(chosencipher)\n",
    "for i in range(len(decipherofchosen)):\n",
    "    if decipherofchosen[i]=='b':\n",
    "        n_=i\n",
    "l_ = []\n",
    "y = x//n_\n",
    "s= cipher\n",
    "for i in range(y):\n",
    "    s_=''\n",
    "    for j in range(len(cipher)):\n",
    "        if j % y == i:\n",
    "            s_=s_+s[j]\n",
    "    l_.append(s_)\n",
    "decipher=''.join(l_)\n",
    "print(decipher)      "
   ]
  },
  {
   "cell_type": "markdown",
   "metadata": {},
   "source": [
    "# Only Ciphertext"
   ]
  },
  {
   "cell_type": "markdown",
   "metadata": {},
   "source": [
    "Here we decrypt the message using all possible number of columns and then make a list of possible deciphers. We find the number of meaningful words in each entry and print them, the one with most number of meaningful words first, then the one with most second number of meaningful words next and so on"
   ]
  },
  {
   "cell_type": "code",
   "execution_count": 15,
   "metadata": {},
   "outputs": [
    {
     "name": "stdout",
     "output_type": "stream",
     "text": [
      "meetmeattheparkz\n",
      "memateaketethprz\n",
      "mteheetpmaeraktz\n"
     ]
    }
   ],
   "source": [
    "possible=[] #list of outputs with all possible number of coulmns\n",
    "for k in range(2,len(cipher)):\n",
    "    import math\n",
    "    x = len(cipher)\n",
    "    if len(cipher) % k != 0: #if the length of the cipher is not a multiple of i, then number of columns cannot be i \n",
    "        continue             #since bogus letters are added to fill the matrix during encryption\n",
    "    y = x//k\n",
    "    l_ = []\n",
    "    for i in range(y):\n",
    "        s_=''\n",
    "        for j in range(len(cipher)):\n",
    "            if j % y == i:\n",
    "                s_=s_+cipher[j]\n",
    "        l_.append(s_)\n",
    "    possible.append(''.join(l_))\n",
    "\n",
    "count=dict(zip(possible,[0]*312)) \n",
    "\n",
    "file = open('word100.txt', 'r') #file containing most fequently used 100 English words\n",
    "\n",
    "for each in file: #loop that counts the number of meaningful words in each entry in possibilty\n",
    "    each=each.rstrip()\n",
    "    if len(each)<2:\n",
    "        continue\n",
    "    for i in possible:\n",
    "        if each in i or each.upper() in i:\n",
    "            count[i]=count[i]+1\n",
    "\n",
    "count = sorted(count.items(), key= lambda x:x[1],reverse=True) #sorts in descending order according the number of meaningful words\n",
    "\n",
    "for i in count:\n",
    "    decipher=i[0]\n",
    "    print(decipher)"
   ]
  }
 ],
 "metadata": {
  "kernelspec": {
   "display_name": "Python 3",
   "language": "python",
   "name": "python3"
  }
 },
 "nbformat": 4,
 "nbformat_minor": 4
}
